{
 "cells": [
  {
   "cell_type": "code",
   "execution_count": 44,
   "id": "2c58a9e4",
   "metadata": {
    "execution": {
     "iopub.execute_input": "2024-01-03T05:53:01.027025Z",
     "iopub.status.busy": "2024-01-03T05:53:01.026441Z",
     "iopub.status.idle": "2024-01-03T05:53:01.058127Z",
     "shell.execute_reply": "2024-01-03T05:53:01.056915Z"
    },
    "papermill": {
     "duration": 0.058674,
     "end_time": "2024-01-03T05:53:01.061674",
     "exception": false,
     "start_time": "2024-01-03T05:53:01.003000",
     "status": "completed"
    },
    "tags": []
   },
   "outputs": [],
   "source": [
    "import numpy as np # linear algebra\n",
    "import pandas as pd # data processing, CSV file I/O (e.g. pd.read_csv)\n"
   ]
  },
  {
   "cell_type": "markdown",
   "id": "38d5fb85",
   "metadata": {
    "papermill": {
     "duration": 0.019076,
     "end_time": "2024-01-03T05:53:01.100061",
     "exception": false,
     "start_time": "2024-01-03T05:53:01.080985",
     "status": "completed"
    },
    "tags": []
   },
   "source": [
    "<div style=\"color:white;background-color:#e90045;padding:2%;border-radius:120px 120px;font-size:2.5em;text-align:center\">Distribution Transformer Monitoring</div>"
   ]
  },
  {
   "cell_type": "markdown",
   "id": "9642f03d",
   "metadata": {
    "papermill": {
     "duration": 0.018632,
     "end_time": "2024-01-03T05:53:01.137530",
     "exception": false,
     "start_time": "2024-01-03T05:53:01.118898",
     "status": "completed"
    },
    "tags": []
   },
   "source": [
    "<img src=\"https://5.imimg.com/data5/WJ/UB/MY-5575408/power-transformers-500x500-500x500.jpg\" alt=\"Transformer\" width=\"60%\">\n",
    "</center>\n",
    "\n",
    "**What is a Distribution Transformer?**\n",
    "> Definition: A distribution transformer is also known as a typical kind of isolation transformer. The main function of this transformer is to alter the high voltage to the normal voltage like 240/120 V to use in electric power distribution. In the distribution system, there are different kinds of transformers available like single phase, 3-phase, underground, pad-mounted, pole-mounted transformer.\n",
    "\n",
    "- Generally, these transformers are available in different sizes with efficiencies along with insulating oil.\n",
    "- There are four types of distribution transformer connections available like star-star, delta-delta, star-delta, delta-star and Zig Zag/delta zigzag.\n",
    "\n",
    "<img src=\"http://www.transgear.in/images/online-monitorng-1.jpg\" alt=\"Transformer\" width=\"60%\">\n",
    "</center>\n",
    "\n",
    "**Distribution Transformer Construction**:\n",
    "The designing of a distribution transformer can be done similarly to small size transformers. The main parts of this transformer mainly include Oil Tank, Conservator, Buchholz Relay, Breather Unit, Oil Indicator, Temperature Detector, Pressure Relief Device, Thermal Relay, Radiator, and Bushing.\n",
    "\n",
    "1. The oil tank is used to soak the windings by placing it in.\n",
    "2. A conservator is arranged above the oil tank at the outside of the transformer frame. It is connected to the main tank with the help of a metallic tube. The oil within the tank can be easily contacted & enlarge throughout loading so that the temperature of the oil can be increased & decrease.\n",
    "3. Buchholz relay is used when a conservator tank is used. Because it indicates errors like loss of oil once it goes low, improper flow of oil between the tank & transformer.\n",
    "4. Breather Unit includes silica gel that absorbs moisture in the oil. It changes its color from blue color to pink color it is not capable to absorb moisture in the oil.\n",
    "5. The oil indicator indicates the level of the oil within the conservatory unit.\n",
    "6. The temperature detector monitors the temperature of the oil. If the temperature of the oil increases to a certain level then the transformer will be disconnected from the service.\n",
    "7. Pressure relief device decreases the pressure within the transformer to avoid an explosion of the transformer.\n",
    "8. Thermal relay is used as an indicator for the temperature of the winding\n",
    "9. The radiator is used to increase the transformer’s cooling efficiency.\n",
    "10. The bushing is used to connect the internal windings of the transformer with the help of an exterior electrical network."
   ]
  },
  {
   "cell_type": "markdown",
   "id": "86f4eb43",
   "metadata": {
    "papermill": {
     "duration": 0.020319,
     "end_time": "2024-01-03T05:53:01.177307",
     "exception": false,
     "start_time": "2024-01-03T05:53:01.156988",
     "status": "completed"
    },
    "tags": []
   },
   "source": [
    "<div style=\"color:white;\n",
    "       display:fill;\n",
    "       border-radius:5px;\n",
    "       background-color:yellow;\n",
    "       font-size:120%;\n",
    "       font-family:Nexa;\n",
    "       style:justify;\n",
    "       font-family:'Times New Roman';\n",
    "       letter-spacing:0.5px\">\n",
    "    <p style=\"padding: 10px;\n",
    "          color:Black;\">\n",
    "        Transformers plays a very important role in the power system. Though they are some of the most reliable component of the electrical grid they are also prone to failure due to many factors both internal or external. There could be many initiators which cause a transformer failure, but those which can potentially lead to catastrophic failure are the following :\n",
    "    </p>\n",
    "</div>\n"
   ]
  },
  {
   "cell_type": "markdown",
   "id": "df2fe849",
   "metadata": {
    "papermill": {
     "duration": 0.018399,
     "end_time": "2024-01-03T05:53:01.214340",
     "exception": false,
     "start_time": "2024-01-03T05:53:01.195941",
     "status": "completed"
    },
    "tags": []
   },
   "source": [
    "<span style=\"background-color:red;\n",
    "             color:white;\n",
    "             font-size:17px;\n",
    "             text-align:center;\n",
    "             border-radius:30px 80px;\n",
    "             font-weight:bold;\n",
    "             border:2px solid red;\n",
    "             padding:0px 20px;\">1. Mechanical Failure\n",
    "</span>\n",
    "\n",
    "<span style=\"background-color:red;\n",
    "             color:white;\n",
    "             font-size:17px;\n",
    "             text-align:center;\n",
    "             border-radius:30px 80px;\n",
    "             font-weight:bold;\n",
    "             border:2px solid red;\n",
    "             padding:0px 20px;\">2. Dielectric Failure\n",
    "</span>\n",
    "\n",
    "<span style=\"background-color:red;\n",
    "             color:white;\n",
    "             font-size:17px;\n",
    "             text-align:center;\n",
    "             border-radius:30px 80px;\n",
    "             font-weight:bold;\n",
    "             border:2px solid red;\n",
    "             padding:0px 20px;\">3. Electrical Winding Shortcircut\n",
    "</span>"
   ]
  },
  {
   "cell_type": "markdown",
   "id": "7e61961f",
   "metadata": {
    "papermill": {
     "duration": 0.01864,
     "end_time": "2024-01-03T05:53:01.251605",
     "exception": false,
     "start_time": "2024-01-03T05:53:01.232965",
     "status": "completed"
    },
    "tags": []
   },
   "source": [
    "<img src=\"https://www.engineeringworldchannel.com/wp-content/uploads/2021/12/Transformer-on-fire_optimized.webp?x16490\" alt=\"Transformer\" width=\"60%\">\n",
    "</center>"
   ]
  },
  {
   "cell_type": "markdown",
   "id": "2901a85d",
   "metadata": {
    "papermill": {
     "duration": 0.018125,
     "end_time": "2024-01-03T05:53:01.288847",
     "exception": false,
     "start_time": "2024-01-03T05:53:01.270722",
     "status": "completed"
    },
    "tags": []
   },
   "source": [
    "<div style=\"color:white;\n",
    "       display:fill;\n",
    "       border-radius:5px;\n",
    "       background-color:yellow;\n",
    "       font-size:120%;\n",
    "       font-family:Nexa;\n",
    "       style:justify;\n",
    "       font-family:'Times New Roman';\n",
    "       letter-spacing:0.5px\">\n",
    "    <p style=\"padding: 10px;\n",
    "          color:Black;\">\n",
    "       This data is collected via IoT devices from June 25th, 2019 to April 14th, 2020 which was updated every 15 minutes.\n",
    "    </p>\n",
    "</div>"
   ]
  },
  {
   "cell_type": "markdown",
   "id": "6ecbf14b",
   "metadata": {
    "papermill": {
     "duration": 0.018657,
     "end_time": "2024-01-03T05:53:01.326048",
     "exception": false,
     "start_time": "2024-01-03T05:53:01.307391",
     "status": "completed"
    },
    "tags": []
   },
   "source": [
    "**Overview:**\n",
    "\n",
    "- OTI- Oil Temperature Indicator\n",
    "- WTI- Winding Temperature Indicator\n",
    "- ATI- Ambient Temperature Indicator\n",
    "- OLI- Oil Level Indicator\n",
    "- OTIA- Oil Temperature Indicator Alarm OTIT\n",
    "- Oil Temperature Indicator Trip\n",
    "- MOG_A- Magnetic oil gauge indicator\n",
    "\n",
    "**CurrentVoltage:**\n",
    "\n",
    "- VL1- Phase Line 1\n",
    "- VL2- Phase Line 2\n",
    "- VL3- Phase Line 3\n",
    "\n",
    "- IL1- Current Line 1\n",
    "- IL2- Current Line 2\n",
    "- IL3- Current Line 3\n",
    "\n",
    "- VL12- Voltage line 1 2\n",
    "- VL23- Voltage line 2 3\n",
    "- VL31- Voltage line 3 1\n",
    "\n",
    "- INUT- Neutral Current"
   ]
  },
  {
   "cell_type": "markdown",
   "id": "6cbcb4c3",
   "metadata": {
    "papermill": {
     "duration": 0.018387,
     "end_time": "2024-01-03T05:53:01.363404",
     "exception": false,
     "start_time": "2024-01-03T05:53:01.345017",
     "status": "completed"
    },
    "tags": []
   },
   "source": [
    "<span class=\"label label-default\" style=\"background-color:#DC1010; border-radius:12px; font-weight: bold; font-family:Verdana; font-size:28px; color:#FBFAFC; \">Objectives of Notebook</span>"
   ]
  },
  {
   "cell_type": "markdown",
   "id": "61426fc9",
   "metadata": {
    "papermill": {
     "duration": 0.018451,
     "end_time": "2024-01-03T05:53:01.400891",
     "exception": false,
     "start_time": "2024-01-03T05:53:01.382440",
     "status": "completed"
    },
    "tags": []
   },
   "source": [
    "<font color=\"Blue\" size=+1.5><b>1. Dataset exploration using various types of data visualization.</b></font>\n",
    "\n",
    "<font color=\"Blue\" size=+1.5><b>2. Build various Machine Learning models that can predict the Magnetic oil gauge fault indicator.</b></font>"
   ]
  },
  {
   "cell_type": "markdown",
   "id": "64eb962e",
   "metadata": {
    "papermill": {
     "duration": 0.018255,
     "end_time": "2024-01-03T05:53:01.437691",
     "exception": false,
     "start_time": "2024-01-03T05:53:01.419436",
     "status": "completed"
    },
    "tags": []
   },
   "source": [
    "<span class=\"label label-default\" style=\"background-color:#DC1010; border-radius:12px; font-weight: bold; font-family:Verdana; font-size:28px; color:#FBFAFC; \">The machine learning models used in this project are:</span>"
   ]
  },
  {
   "cell_type": "markdown",
   "id": "b82a6307",
   "metadata": {
    "papermill": {
     "duration": 0.018094,
     "end_time": "2024-01-03T05:53:01.474432",
     "exception": false,
     "start_time": "2024-01-03T05:53:01.456338",
     "status": "completed"
    },
    "tags": []
   },
   "source": [
    "<div style=\"font-family: Lucida Calligraphy; line-height:1.5; color: Blue; text-align: justify\">\n",
    "    ✅ The <b>models</b> used in this notebook:\n",
    "    <ol start=\"1\">\n",
    "        <li> <b>Logistic Regression</b>,</li>\n",
    "        <li> <b>Support Vector Machine (SVM)</b>,</li>\n",
    "        <li> <b>K-Nearest Neighbour (KNN)</b>,</li>\n",
    "        <li> <b>Decision Tree</b>,</li>\n",
    "        <li> <b>Random Forest</b>,</li>\n",
    "        <li> <b>Extra Tree Classifier</b>,</li>\n",
    "        <li> <b><span style=\"font-size: 8; background-color: #FFDF01;\"></span> AdaBoost</b>,and</li>\n",
    "        <li> <b><span style=\"font-size: 8; background-color: #FFDF01;\"></span> XGB Classifier</b>.</li>\n",
    "    </ol>\n",
    "</div>"
   ]
  },
  {
   "cell_type": "markdown",
   "id": "568ddf3d",
   "metadata": {
    "papermill": {
     "duration": 0.018116,
     "end_time": "2024-01-03T05:53:01.511552",
     "exception": false,
     "start_time": "2024-01-03T05:53:01.493436",
     "status": "completed"
    },
    "tags": []
   },
   "source": [
    "<span class=\"label label-default\" style=\"background-color:#DC1010; border-radius:12px; font-weight: bold; font-family:Verdana; font-size:28px; color:#FBFAFC; \">Importing Libraries</span>"
   ]
  },
  {
   "cell_type": "code",
   "execution_count": 45,
   "id": "4323f4d5",
   "metadata": {
    "execution": {
     "iopub.execute_input": "2024-01-03T05:53:01.551167Z",
     "iopub.status.busy": "2024-01-03T05:53:01.550631Z",
     "iopub.status.idle": "2024-01-03T05:53:02.963977Z",
     "shell.execute_reply": "2024-01-03T05:53:02.962198Z"
    },
    "papermill": {
     "duration": 1.437563,
     "end_time": "2024-01-03T05:53:02.967695",
     "exception": false,
     "start_time": "2024-01-03T05:53:01.530132",
     "status": "completed"
    },
    "tags": []
   },
   "outputs": [],
   "source": [
    "import pandas as pd \n",
    "import numpy as np \n",
    "import seaborn as sns\n",
    "import matplotlib.pyplot as plt\n",
    "from sklearn import metrics\n",
    "%matplotlib inline \n",
    "\n",
    "import datetime\n",
    "\n",
    "import warnings\n",
    "warnings.filterwarnings('ignore')\n",
    "\n",
    "sns.set_theme(context='notebook',\n",
    "              style='white',\n",
    "              palette='deep',\n",
    "              font='Lucida Calligraphy',\n",
    "              font_scale=1.5,\n",
    "              color_codes=True,\n",
    "              rc=None)\n",
    "config = {\n",
    "    'figure.figsize': (14, 8),\n",
    "    'figure.facecolor': '#F0F8FF',\n",
    "    'figure.titlesize': 'medium',\n",
    "    'figure.dpi': 50,\n",
    "    'figure.edgecolor': 'green',\n",
    "    'figure.frameon': True,\n",
    "\n",
    "    \"figure.autolayout\": True,\n",
    "\n",
    "    'axes.facecolor': '#F5F5DC',\n",
    "    'axes.titlesize': 25,\n",
    "    \"axes.titleweight\": 'normal',\n",
    "    \"axes.titlecolor\": 'Olive',\n",
    "    'axes.edgecolor': 'pink',\n",
    "\n",
    "    \"axes.linewidth\": 2,\n",
    "    \"axes.grid\": True,\n",
    "    'axes.titlelocation': 'center',\n",
    "    \"axes.labelsize\": 20,\n",
    "    \"axes.labelpad\": 2,\n",
    "    'axes.labelweight': 1,\n",
    "    \"axes.labelcolor\": 'Olive',\n",
    "    \"axes.axisbelow\": False,\n",
    "    'axes.xmargin': .2,\n",
    "    \"axes.ymargin\": .2,\n",
    "\n",
    "    \"xtick.bottom\": True,\n",
    "    'xtick.color': '#A52A2A',\n",
    "    \"ytick.left\": True,\n",
    "    'ytick.color': '#A52A2A',\n",
    "\n",
    "    \n",
    "    'grid.color': 'green',\n",
    "    'grid.linestyle': '--',\n",
    "    'grid.linewidth': .5,\n",
    "    'grid.alpha': .3,\n",
    "\n",
    "    'legend.loc': 'best',\n",
    "    'legend.facecolor': 'NavajoWhite',\n",
    "    'legend.edgecolor': 'pink',\n",
    "    'legend.shadow': True,\n",
    "    'legend.fontsize': 20,\n",
    "\n",
    "    'font.family': 'Lucida Calligraphy',\n",
    "    'font.size': 14,\n",
    "}\n",
    "\n",
    "# Apply the configuration to Matplotlib\n",
    "plt.rcParams.update(config)\n",
    "\n",
    "\n"
   ]
  },
  {
   "cell_type": "code",
   "execution_count": 46,
   "id": "8dbb24d2",
   "metadata": {
    "execution": {
     "iopub.execute_input": "2024-01-03T05:53:03.008462Z",
     "iopub.status.busy": "2024-01-03T05:53:03.007891Z",
     "iopub.status.idle": "2024-01-03T05:53:03.014700Z",
     "shell.execute_reply": "2024-01-03T05:53:03.013218Z"
    },
    "papermill": {
     "duration": 0.031216,
     "end_time": "2024-01-03T05:53:03.017985",
     "exception": false,
     "start_time": "2024-01-03T05:53:02.986769",
     "status": "completed"
    },
    "tags": []
   },
   "outputs": [],
   "source": [
    "pd.set_option('display.max_columns',None)"
   ]
  },
  {
   "cell_type": "code",
   "execution_count": 47,
   "id": "669bf8e4",
   "metadata": {
    "execution": {
     "iopub.execute_input": "2024-01-03T05:53:03.058485Z",
     "iopub.status.busy": "2024-01-03T05:53:03.057614Z",
     "iopub.status.idle": "2024-01-03T05:53:03.160700Z",
     "shell.execute_reply": "2024-01-03T05:53:03.159288Z"
    },
    "papermill": {
     "duration": 0.127149,
     "end_time": "2024-01-03T05:53:03.163919",
     "exception": false,
     "start_time": "2024-01-03T05:53:03.036770",
     "status": "completed"
    },
    "tags": []
   },
   "outputs": [
    {
     "data": {
      "text/plain": [
       "(20316, 8)"
      ]
     },
     "metadata": {},
     "output_type": "display_data"
    },
    {
     "data": {
      "text/html": [
       "<div>\n",
       "<style scoped>\n",
       "    .dataframe tbody tr th:only-of-type {\n",
       "        vertical-align: middle;\n",
       "    }\n",
       "\n",
       "    .dataframe tbody tr th {\n",
       "        vertical-align: top;\n",
       "    }\n",
       "\n",
       "    .dataframe thead th {\n",
       "        text-align: right;\n",
       "    }\n",
       "</style>\n",
       "<table border=\"1\" class=\"dataframe\">\n",
       "  <thead>\n",
       "    <tr style=\"text-align: right;\">\n",
       "      <th></th>\n",
       "      <th>DeviceTimeStamp</th>\n",
       "      <th>OTI</th>\n",
       "      <th>WTI</th>\n",
       "      <th>ATI</th>\n",
       "      <th>OLI</th>\n",
       "      <th>OTI_A</th>\n",
       "      <th>OTI_T</th>\n",
       "      <th>MOG_A</th>\n",
       "    </tr>\n",
       "  </thead>\n",
       "  <tbody>\n",
       "    <tr>\n",
       "      <th>0</th>\n",
       "      <td>2019-06-25T13:06</td>\n",
       "      <td>0.0</td>\n",
       "      <td>0.0</td>\n",
       "      <td>0.0</td>\n",
       "      <td>37.0</td>\n",
       "      <td>0.0</td>\n",
       "      <td>0.0</td>\n",
       "      <td>0.0</td>\n",
       "    </tr>\n",
       "    <tr>\n",
       "      <th>1</th>\n",
       "      <td>2019-06-25T13:09</td>\n",
       "      <td>0.0</td>\n",
       "      <td>0.0</td>\n",
       "      <td>0.0</td>\n",
       "      <td>37.0</td>\n",
       "      <td>0.0</td>\n",
       "      <td>0.0</td>\n",
       "      <td>0.0</td>\n",
       "    </tr>\n",
       "    <tr>\n",
       "      <th>2</th>\n",
       "      <td>2019-06-27T10:49</td>\n",
       "      <td>0.0</td>\n",
       "      <td>0.0</td>\n",
       "      <td>0.0</td>\n",
       "      <td>38.0</td>\n",
       "      <td>0.0</td>\n",
       "      <td>0.0</td>\n",
       "      <td>0.0</td>\n",
       "    </tr>\n",
       "    <tr>\n",
       "      <th>3</th>\n",
       "      <td>2019-06-27T10:51</td>\n",
       "      <td>0.0</td>\n",
       "      <td>0.0</td>\n",
       "      <td>0.0</td>\n",
       "      <td>38.0</td>\n",
       "      <td>0.0</td>\n",
       "      <td>0.0</td>\n",
       "      <td>0.0</td>\n",
       "    </tr>\n",
       "    <tr>\n",
       "      <th>4</th>\n",
       "      <td>2019-06-27T10:52</td>\n",
       "      <td>0.0</td>\n",
       "      <td>0.0</td>\n",
       "      <td>0.0</td>\n",
       "      <td>39.0</td>\n",
       "      <td>0.0</td>\n",
       "      <td>0.0</td>\n",
       "      <td>0.0</td>\n",
       "    </tr>\n",
       "  </tbody>\n",
       "</table>\n",
       "</div>"
      ],
      "text/plain": [
       "    DeviceTimeStamp  OTI  WTI  ATI   OLI  OTI_A  OTI_T  MOG_A\n",
       "0  2019-06-25T13:06  0.0  0.0  0.0  37.0    0.0    0.0    0.0\n",
       "1  2019-06-25T13:09  0.0  0.0  0.0  37.0    0.0    0.0    0.0\n",
       "2  2019-06-27T10:49  0.0  0.0  0.0  38.0    0.0    0.0    0.0\n",
       "3  2019-06-27T10:51  0.0  0.0  0.0  38.0    0.0    0.0    0.0\n",
       "4  2019-06-27T10:52  0.0  0.0  0.0  39.0    0.0    0.0    0.0"
      ]
     },
     "execution_count": 47,
     "metadata": {},
     "output_type": "execute_result"
    }
   ],
   "source": [
    "# Transformer  \n",
    "tf = pd.read_csv('Overview.csv')\n",
    "display(tf.shape) \n",
    "tf.head()"
   ]
  },
  {
   "cell_type": "code",
   "execution_count": 48,
   "id": "4e912a01",
   "metadata": {
    "execution": {
     "iopub.execute_input": "2024-01-03T05:53:03.205656Z",
     "iopub.status.busy": "2024-01-03T05:53:03.205136Z",
     "iopub.status.idle": "2024-01-03T05:53:03.259166Z",
     "shell.execute_reply": "2024-01-03T05:53:03.257782Z"
    },
    "papermill": {
     "duration": 0.078524,
     "end_time": "2024-01-03T05:53:03.262277",
     "exception": false,
     "start_time": "2024-01-03T05:53:03.183753",
     "status": "completed"
    },
    "tags": []
   },
   "outputs": [
    {
     "data": {
      "text/html": [
       "<div>\n",
       "<style scoped>\n",
       "    .dataframe tbody tr th:only-of-type {\n",
       "        vertical-align: middle;\n",
       "    }\n",
       "\n",
       "    .dataframe tbody tr th {\n",
       "        vertical-align: top;\n",
       "    }\n",
       "\n",
       "    .dataframe thead th {\n",
       "        text-align: right;\n",
       "    }\n",
       "</style>\n",
       "<table border=\"1\" class=\"dataframe\">\n",
       "  <thead>\n",
       "    <tr style=\"text-align: right;\">\n",
       "      <th></th>\n",
       "      <th>DeviceTimeStamp</th>\n",
       "      <th>OTI</th>\n",
       "      <th>WTI</th>\n",
       "      <th>ATI</th>\n",
       "      <th>OLI</th>\n",
       "      <th>OTI_A</th>\n",
       "      <th>OTI_T</th>\n",
       "      <th>MOG_A</th>\n",
       "    </tr>\n",
       "  </thead>\n",
       "  <tbody>\n",
       "    <tr>\n",
       "      <th>0</th>\n",
       "      <td>2019-06-25 13:06:00</td>\n",
       "      <td>0.0</td>\n",
       "      <td>0.0</td>\n",
       "      <td>0.0</td>\n",
       "      <td>37.0</td>\n",
       "      <td>0.0</td>\n",
       "      <td>0.0</td>\n",
       "      <td>0.0</td>\n",
       "    </tr>\n",
       "    <tr>\n",
       "      <th>1</th>\n",
       "      <td>2019-06-25 13:09:00</td>\n",
       "      <td>0.0</td>\n",
       "      <td>0.0</td>\n",
       "      <td>0.0</td>\n",
       "      <td>37.0</td>\n",
       "      <td>0.0</td>\n",
       "      <td>0.0</td>\n",
       "      <td>0.0</td>\n",
       "    </tr>\n",
       "    <tr>\n",
       "      <th>2</th>\n",
       "      <td>2019-06-27 10:49:00</td>\n",
       "      <td>0.0</td>\n",
       "      <td>0.0</td>\n",
       "      <td>0.0</td>\n",
       "      <td>38.0</td>\n",
       "      <td>0.0</td>\n",
       "      <td>0.0</td>\n",
       "      <td>0.0</td>\n",
       "    </tr>\n",
       "    <tr>\n",
       "      <th>3</th>\n",
       "      <td>2019-06-27 10:51:00</td>\n",
       "      <td>0.0</td>\n",
       "      <td>0.0</td>\n",
       "      <td>0.0</td>\n",
       "      <td>38.0</td>\n",
       "      <td>0.0</td>\n",
       "      <td>0.0</td>\n",
       "      <td>0.0</td>\n",
       "    </tr>\n",
       "    <tr>\n",
       "      <th>4</th>\n",
       "      <td>2019-06-27 10:52:00</td>\n",
       "      <td>0.0</td>\n",
       "      <td>0.0</td>\n",
       "      <td>0.0</td>\n",
       "      <td>39.0</td>\n",
       "      <td>0.0</td>\n",
       "      <td>0.0</td>\n",
       "      <td>0.0</td>\n",
       "    </tr>\n",
       "  </tbody>\n",
       "</table>\n",
       "</div>"
      ],
      "text/plain": [
       "      DeviceTimeStamp  OTI  WTI  ATI   OLI  OTI_A  OTI_T  MOG_A\n",
       "0 2019-06-25 13:06:00  0.0  0.0  0.0  37.0    0.0    0.0    0.0\n",
       "1 2019-06-25 13:09:00  0.0  0.0  0.0  37.0    0.0    0.0    0.0\n",
       "2 2019-06-27 10:49:00  0.0  0.0  0.0  38.0    0.0    0.0    0.0\n",
       "3 2019-06-27 10:51:00  0.0  0.0  0.0  38.0    0.0    0.0    0.0\n",
       "4 2019-06-27 10:52:00  0.0  0.0  0.0  39.0    0.0    0.0    0.0"
      ]
     },
     "execution_count": 48,
     "metadata": {},
     "output_type": "execute_result"
    }
   ],
   "source": [
    "# Converting to datetime datatype\n",
    "tf['DeviceTimeStamp'] = pd.to_datetime(tf['DeviceTimeStamp'], format='%Y-%m-%dT%H:%M')\n",
    "\n",
    "tf.head()"
   ]
  },
  {
   "cell_type": "code",
   "execution_count": 49,
   "id": "464a5862",
   "metadata": {
    "execution": {
     "iopub.execute_input": "2024-01-03T05:53:03.304075Z",
     "iopub.status.busy": "2024-01-03T05:53:03.303593Z",
     "iopub.status.idle": "2024-01-03T05:53:03.404592Z",
     "shell.execute_reply": "2024-01-03T05:53:03.403488Z"
    },
    "papermill": {
     "duration": 0.12504,
     "end_time": "2024-01-03T05:53:03.407464",
     "exception": false,
     "start_time": "2024-01-03T05:53:03.282424",
     "status": "completed"
    },
    "tags": []
   },
   "outputs": [
    {
     "data": {
      "text/plain": [
       "(19352, 11)"
      ]
     },
     "metadata": {},
     "output_type": "display_data"
    },
    {
     "data": {
      "text/html": [
       "<div>\n",
       "<style scoped>\n",
       "    .dataframe tbody tr th:only-of-type {\n",
       "        vertical-align: middle;\n",
       "    }\n",
       "\n",
       "    .dataframe tbody tr th {\n",
       "        vertical-align: top;\n",
       "    }\n",
       "\n",
       "    .dataframe thead th {\n",
       "        text-align: right;\n",
       "    }\n",
       "</style>\n",
       "<table border=\"1\" class=\"dataframe\">\n",
       "  <thead>\n",
       "    <tr style=\"text-align: right;\">\n",
       "      <th></th>\n",
       "      <th>DeviceTimeStamp</th>\n",
       "      <th>VL1</th>\n",
       "      <th>VL2</th>\n",
       "      <th>VL3</th>\n",
       "      <th>IL1</th>\n",
       "      <th>IL2</th>\n",
       "      <th>IL3</th>\n",
       "      <th>VL12</th>\n",
       "      <th>VL23</th>\n",
       "      <th>VL31</th>\n",
       "      <th>INUT</th>\n",
       "    </tr>\n",
       "  </thead>\n",
       "  <tbody>\n",
       "    <tr>\n",
       "      <th>0</th>\n",
       "      <td>2019-06-25T13:06</td>\n",
       "      <td>0.0</td>\n",
       "      <td>0.0</td>\n",
       "      <td>0.0</td>\n",
       "      <td>0.0</td>\n",
       "      <td>0.0</td>\n",
       "      <td>0.0</td>\n",
       "      <td>0.0</td>\n",
       "      <td>0.0</td>\n",
       "      <td>0.0</td>\n",
       "      <td>0.0</td>\n",
       "    </tr>\n",
       "    <tr>\n",
       "      <th>1</th>\n",
       "      <td>2019-06-27T10:49</td>\n",
       "      <td>238.7</td>\n",
       "      <td>238.7</td>\n",
       "      <td>238.8</td>\n",
       "      <td>0.0</td>\n",
       "      <td>0.0</td>\n",
       "      <td>0.0</td>\n",
       "      <td>0.0</td>\n",
       "      <td>0.0</td>\n",
       "      <td>0.0</td>\n",
       "      <td>0.0</td>\n",
       "    </tr>\n",
       "    <tr>\n",
       "      <th>2</th>\n",
       "      <td>2019-06-27T10:51</td>\n",
       "      <td>238.4</td>\n",
       "      <td>238.5</td>\n",
       "      <td>238.5</td>\n",
       "      <td>0.0</td>\n",
       "      <td>0.0</td>\n",
       "      <td>0.0</td>\n",
       "      <td>0.0</td>\n",
       "      <td>0.0</td>\n",
       "      <td>0.0</td>\n",
       "      <td>0.0</td>\n",
       "    </tr>\n",
       "    <tr>\n",
       "      <th>3</th>\n",
       "      <td>2019-06-27T10:52</td>\n",
       "      <td>239.9</td>\n",
       "      <td>240.0</td>\n",
       "      <td>240.0</td>\n",
       "      <td>0.0</td>\n",
       "      <td>0.0</td>\n",
       "      <td>0.0</td>\n",
       "      <td>0.0</td>\n",
       "      <td>0.0</td>\n",
       "      <td>0.0</td>\n",
       "      <td>0.0</td>\n",
       "    </tr>\n",
       "    <tr>\n",
       "      <th>4</th>\n",
       "      <td>2019-06-27T10:52</td>\n",
       "      <td>239.9</td>\n",
       "      <td>240.0</td>\n",
       "      <td>240.0</td>\n",
       "      <td>0.0</td>\n",
       "      <td>0.0</td>\n",
       "      <td>0.0</td>\n",
       "      <td>0.0</td>\n",
       "      <td>0.0</td>\n",
       "      <td>0.0</td>\n",
       "      <td>0.0</td>\n",
       "    </tr>\n",
       "  </tbody>\n",
       "</table>\n",
       "</div>"
      ],
      "text/plain": [
       "    DeviceTimeStamp    VL1    VL2    VL3  IL1  IL2  IL3  VL12  VL23  VL31  \\\n",
       "0  2019-06-25T13:06    0.0    0.0    0.0  0.0  0.0  0.0   0.0   0.0   0.0   \n",
       "1  2019-06-27T10:49  238.7  238.7  238.8  0.0  0.0  0.0   0.0   0.0   0.0   \n",
       "2  2019-06-27T10:51  238.4  238.5  238.5  0.0  0.0  0.0   0.0   0.0   0.0   \n",
       "3  2019-06-27T10:52  239.9  240.0  240.0  0.0  0.0  0.0   0.0   0.0   0.0   \n",
       "4  2019-06-27T10:52  239.9  240.0  240.0  0.0  0.0  0.0   0.0   0.0   0.0   \n",
       "\n",
       "   INUT  \n",
       "0   0.0  \n",
       "1   0.0  \n",
       "2   0.0  \n",
       "3   0.0  \n",
       "4   0.0  "
      ]
     },
     "execution_count": 49,
     "metadata": {},
     "output_type": "execute_result"
    }
   ],
   "source": [
    "cv = pd.read_csv('CurrentVoltage.csv')\n",
    "display(cv.shape)\n",
    "cv.head()"
   ]
  },
  {
   "cell_type": "markdown",
   "id": "84da0f7f",
   "metadata": {
    "papermill": {
     "duration": 0.019651,
     "end_time": "2024-01-03T05:53:03.447029",
     "exception": false,
     "start_time": "2024-01-03T05:53:03.427378",
     "status": "completed"
    },
    "tags": []
   },
   "source": [
    "<span style=\"background-color:red;\n",
    "             color:white;\n",
    "             font-size:17px;\n",
    "             text-align:center;\n",
    "             border-radius:30px 80px;\n",
    "             font-weight:bold;\n",
    "             border:2px solid red;\n",
    "             padding:0px 20px;\">Converting to datetime datatype\n",
    "</span>"
   ]
  },
  {
   "cell_type": "code",
   "execution_count": 50,
   "id": "5c45e065",
   "metadata": {
    "execution": {
     "iopub.execute_input": "2024-01-03T05:53:03.489769Z",
     "iopub.status.busy": "2024-01-03T05:53:03.488366Z",
     "iopub.status.idle": "2024-01-03T05:53:03.534927Z",
     "shell.execute_reply": "2024-01-03T05:53:03.533510Z"
    },
    "papermill": {
     "duration": 0.071295,
     "end_time": "2024-01-03T05:53:03.538246",
     "exception": false,
     "start_time": "2024-01-03T05:53:03.466951",
     "status": "completed"
    },
    "tags": []
   },
   "outputs": [
    {
     "data": {
      "text/html": [
       "<div>\n",
       "<style scoped>\n",
       "    .dataframe tbody tr th:only-of-type {\n",
       "        vertical-align: middle;\n",
       "    }\n",
       "\n",
       "    .dataframe tbody tr th {\n",
       "        vertical-align: top;\n",
       "    }\n",
       "\n",
       "    .dataframe thead th {\n",
       "        text-align: right;\n",
       "    }\n",
       "</style>\n",
       "<table border=\"1\" class=\"dataframe\">\n",
       "  <thead>\n",
       "    <tr style=\"text-align: right;\">\n",
       "      <th></th>\n",
       "      <th>DeviceTimeStamp</th>\n",
       "      <th>VL1</th>\n",
       "      <th>VL2</th>\n",
       "      <th>VL3</th>\n",
       "      <th>IL1</th>\n",
       "      <th>IL2</th>\n",
       "      <th>IL3</th>\n",
       "      <th>VL12</th>\n",
       "      <th>VL23</th>\n",
       "      <th>VL31</th>\n",
       "      <th>INUT</th>\n",
       "    </tr>\n",
       "  </thead>\n",
       "  <tbody>\n",
       "    <tr>\n",
       "      <th>0</th>\n",
       "      <td>2019-06-25 13:06:00</td>\n",
       "      <td>0.0</td>\n",
       "      <td>0.0</td>\n",
       "      <td>0.0</td>\n",
       "      <td>0.0</td>\n",
       "      <td>0.0</td>\n",
       "      <td>0.0</td>\n",
       "      <td>0.0</td>\n",
       "      <td>0.0</td>\n",
       "      <td>0.0</td>\n",
       "      <td>0.0</td>\n",
       "    </tr>\n",
       "    <tr>\n",
       "      <th>1</th>\n",
       "      <td>2019-06-27 10:49:00</td>\n",
       "      <td>238.7</td>\n",
       "      <td>238.7</td>\n",
       "      <td>238.8</td>\n",
       "      <td>0.0</td>\n",
       "      <td>0.0</td>\n",
       "      <td>0.0</td>\n",
       "      <td>0.0</td>\n",
       "      <td>0.0</td>\n",
       "      <td>0.0</td>\n",
       "      <td>0.0</td>\n",
       "    </tr>\n",
       "    <tr>\n",
       "      <th>2</th>\n",
       "      <td>2019-06-27 10:51:00</td>\n",
       "      <td>238.4</td>\n",
       "      <td>238.5</td>\n",
       "      <td>238.5</td>\n",
       "      <td>0.0</td>\n",
       "      <td>0.0</td>\n",
       "      <td>0.0</td>\n",
       "      <td>0.0</td>\n",
       "      <td>0.0</td>\n",
       "      <td>0.0</td>\n",
       "      <td>0.0</td>\n",
       "    </tr>\n",
       "    <tr>\n",
       "      <th>3</th>\n",
       "      <td>2019-06-27 10:52:00</td>\n",
       "      <td>239.9</td>\n",
       "      <td>240.0</td>\n",
       "      <td>240.0</td>\n",
       "      <td>0.0</td>\n",
       "      <td>0.0</td>\n",
       "      <td>0.0</td>\n",
       "      <td>0.0</td>\n",
       "      <td>0.0</td>\n",
       "      <td>0.0</td>\n",
       "      <td>0.0</td>\n",
       "    </tr>\n",
       "    <tr>\n",
       "      <th>4</th>\n",
       "      <td>2019-06-27 10:52:00</td>\n",
       "      <td>239.9</td>\n",
       "      <td>240.0</td>\n",
       "      <td>240.0</td>\n",
       "      <td>0.0</td>\n",
       "      <td>0.0</td>\n",
       "      <td>0.0</td>\n",
       "      <td>0.0</td>\n",
       "      <td>0.0</td>\n",
       "      <td>0.0</td>\n",
       "      <td>0.0</td>\n",
       "    </tr>\n",
       "  </tbody>\n",
       "</table>\n",
       "</div>"
      ],
      "text/plain": [
       "      DeviceTimeStamp    VL1    VL2    VL3  IL1  IL2  IL3  VL12  VL23  VL31  \\\n",
       "0 2019-06-25 13:06:00    0.0    0.0    0.0  0.0  0.0  0.0   0.0   0.0   0.0   \n",
       "1 2019-06-27 10:49:00  238.7  238.7  238.8  0.0  0.0  0.0   0.0   0.0   0.0   \n",
       "2 2019-06-27 10:51:00  238.4  238.5  238.5  0.0  0.0  0.0   0.0   0.0   0.0   \n",
       "3 2019-06-27 10:52:00  239.9  240.0  240.0  0.0  0.0  0.0   0.0   0.0   0.0   \n",
       "4 2019-06-27 10:52:00  239.9  240.0  240.0  0.0  0.0  0.0   0.0   0.0   0.0   \n",
       "\n",
       "   INUT  \n",
       "0   0.0  \n",
       "1   0.0  \n",
       "2   0.0  \n",
       "3   0.0  \n",
       "4   0.0  "
      ]
     },
     "execution_count": 50,
     "metadata": {},
     "output_type": "execute_result"
    }
   ],
   "source": [
    "# Converting to datetime datatype\n",
    "cv['DeviceTimeStamp'] = pd.to_datetime(cv['DeviceTimeStamp'], format='%Y-%m-%dT%H:%M')\n",
    "cv.head()"
   ]
  },
  {
   "cell_type": "markdown",
   "id": "87ca1b86",
   "metadata": {
    "papermill": {
     "duration": 0.020003,
     "end_time": "2024-01-03T05:53:03.579292",
     "exception": false,
     "start_time": "2024-01-03T05:53:03.559289",
     "status": "completed"
    },
    "tags": []
   },
   "source": [
    "<span style=\"background-color:red;\n",
    "             color:white;\n",
    "             font-size:17px;\n",
    "             text-align:center;\n",
    "             border-radius:30px 80px;\n",
    "             font-weight:bold;\n",
    "             border:2px solid red;\n",
    "             padding:0px 20px;\">Merge both dataframes along DeviceTimeStamp\n",
    "</span>"
   ]
  },
  {
   "cell_type": "code",
   "execution_count": 51,
   "id": "fcda1ce9",
   "metadata": {
    "execution": {
     "iopub.execute_input": "2024-01-03T05:53:03.623569Z",
     "iopub.status.busy": "2024-01-03T05:53:03.623044Z",
     "iopub.status.idle": "2024-01-03T05:53:03.694247Z",
     "shell.execute_reply": "2024-01-03T05:53:03.692723Z"
    },
    "papermill": {
     "duration": 0.096378,
     "end_time": "2024-01-03T05:53:03.697520",
     "exception": false,
     "start_time": "2024-01-03T05:53:03.601142",
     "status": "completed"
    },
    "tags": []
   },
   "outputs": [
    {
     "data": {
      "text/html": [
       "<div>\n",
       "<style scoped>\n",
       "    .dataframe tbody tr th:only-of-type {\n",
       "        vertical-align: middle;\n",
       "    }\n",
       "\n",
       "    .dataframe tbody tr th {\n",
       "        vertical-align: top;\n",
       "    }\n",
       "\n",
       "    .dataframe thead th {\n",
       "        text-align: right;\n",
       "    }\n",
       "</style>\n",
       "<table border=\"1\" class=\"dataframe\">\n",
       "  <thead>\n",
       "    <tr style=\"text-align: right;\">\n",
       "      <th></th>\n",
       "      <th>DeviceTimeStamp</th>\n",
       "      <th>OTI</th>\n",
       "      <th>WTI</th>\n",
       "      <th>ATI</th>\n",
       "      <th>OLI</th>\n",
       "      <th>OTI_A</th>\n",
       "      <th>OTI_T</th>\n",
       "      <th>MOG_A</th>\n",
       "      <th>VL1</th>\n",
       "      <th>VL2</th>\n",
       "      <th>VL3</th>\n",
       "      <th>IL1</th>\n",
       "      <th>IL2</th>\n",
       "      <th>IL3</th>\n",
       "      <th>VL12</th>\n",
       "      <th>VL23</th>\n",
       "      <th>VL31</th>\n",
       "      <th>INUT</th>\n",
       "    </tr>\n",
       "  </thead>\n",
       "  <tbody>\n",
       "    <tr>\n",
       "      <th>3986</th>\n",
       "      <td>2019-07-31 00:15:00</td>\n",
       "      <td>29.0</td>\n",
       "      <td>0.0</td>\n",
       "      <td>26.0</td>\n",
       "      <td>40.0</td>\n",
       "      <td>0.0</td>\n",
       "      <td>0.0</td>\n",
       "      <td>1.0</td>\n",
       "      <td>239.4</td>\n",
       "      <td>238.7</td>\n",
       "      <td>239.6</td>\n",
       "      <td>64.0</td>\n",
       "      <td>65.9</td>\n",
       "      <td>107.4</td>\n",
       "      <td>413.5</td>\n",
       "      <td>413.5</td>\n",
       "      <td>416.4</td>\n",
       "      <td>45.7</td>\n",
       "    </tr>\n",
       "    <tr>\n",
       "      <th>15305</th>\n",
       "      <td>2020-01-20 12:06:00</td>\n",
       "      <td>26.0</td>\n",
       "      <td>0.0</td>\n",
       "      <td>25.0</td>\n",
       "      <td>100.0</td>\n",
       "      <td>0.0</td>\n",
       "      <td>0.0</td>\n",
       "      <td>0.0</td>\n",
       "      <td>NaN</td>\n",
       "      <td>NaN</td>\n",
       "      <td>NaN</td>\n",
       "      <td>NaN</td>\n",
       "      <td>NaN</td>\n",
       "      <td>NaN</td>\n",
       "      <td>NaN</td>\n",
       "      <td>NaN</td>\n",
       "      <td>NaN</td>\n",
       "      <td>NaN</td>\n",
       "    </tr>\n",
       "    <tr>\n",
       "      <th>6744</th>\n",
       "      <td>2019-09-01 11:30:00</td>\n",
       "      <td>43.0</td>\n",
       "      <td>0.0</td>\n",
       "      <td>36.0</td>\n",
       "      <td>40.0</td>\n",
       "      <td>0.0</td>\n",
       "      <td>0.0</td>\n",
       "      <td>0.0</td>\n",
       "      <td>230.7</td>\n",
       "      <td>230.2</td>\n",
       "      <td>229.4</td>\n",
       "      <td>93.6</td>\n",
       "      <td>75.1</td>\n",
       "      <td>104.6</td>\n",
       "      <td>399.2</td>\n",
       "      <td>397.0</td>\n",
       "      <td>398.5</td>\n",
       "      <td>25.9</td>\n",
       "    </tr>\n",
       "    <tr>\n",
       "      <th>264</th>\n",
       "      <td>2019-06-27 13:28:00</td>\n",
       "      <td>34.0</td>\n",
       "      <td>0.0</td>\n",
       "      <td>34.0</td>\n",
       "      <td>39.0</td>\n",
       "      <td>0.0</td>\n",
       "      <td>0.0</td>\n",
       "      <td>0.0</td>\n",
       "      <td>238.1</td>\n",
       "      <td>238.2</td>\n",
       "      <td>238.2</td>\n",
       "      <td>0.0</td>\n",
       "      <td>0.0</td>\n",
       "      <td>0.0</td>\n",
       "      <td>0.0</td>\n",
       "      <td>0.0</td>\n",
       "      <td>0.0</td>\n",
       "      <td>0.0</td>\n",
       "    </tr>\n",
       "    <tr>\n",
       "      <th>3354</th>\n",
       "      <td>2019-07-19 09:15:00</td>\n",
       "      <td>34.0</td>\n",
       "      <td>0.0</td>\n",
       "      <td>29.0</td>\n",
       "      <td>39.0</td>\n",
       "      <td>0.0</td>\n",
       "      <td>0.0</td>\n",
       "      <td>1.0</td>\n",
       "      <td>233.8</td>\n",
       "      <td>232.4</td>\n",
       "      <td>234.0</td>\n",
       "      <td>79.7</td>\n",
       "      <td>73.3</td>\n",
       "      <td>71.9</td>\n",
       "      <td>403.5</td>\n",
       "      <td>404.1</td>\n",
       "      <td>406.6</td>\n",
       "      <td>7.1</td>\n",
       "    </tr>\n",
       "  </tbody>\n",
       "</table>\n",
       "</div>"
      ],
      "text/plain": [
       "          DeviceTimeStamp   OTI  WTI   ATI    OLI  OTI_A  OTI_T  MOG_A    VL1  \\\n",
       "3986  2019-07-31 00:15:00  29.0  0.0  26.0   40.0    0.0    0.0    1.0  239.4   \n",
       "15305 2020-01-20 12:06:00  26.0  0.0  25.0  100.0    0.0    0.0    0.0    NaN   \n",
       "6744  2019-09-01 11:30:00  43.0  0.0  36.0   40.0    0.0    0.0    0.0  230.7   \n",
       "264   2019-06-27 13:28:00  34.0  0.0  34.0   39.0    0.0    0.0    0.0  238.1   \n",
       "3354  2019-07-19 09:15:00  34.0  0.0  29.0   39.0    0.0    0.0    1.0  233.8   \n",
       "\n",
       "         VL2    VL3   IL1   IL2    IL3   VL12   VL23   VL31  INUT  \n",
       "3986   238.7  239.6  64.0  65.9  107.4  413.5  413.5  416.4  45.7  \n",
       "15305    NaN    NaN   NaN   NaN    NaN    NaN    NaN    NaN   NaN  \n",
       "6744   230.2  229.4  93.6  75.1  104.6  399.2  397.0  398.5  25.9  \n",
       "264    238.2  238.2   0.0   0.0    0.0    0.0    0.0    0.0   0.0  \n",
       "3354   232.4  234.0  79.7  73.3   71.9  403.5  404.1  406.6   7.1  "
      ]
     },
     "execution_count": 51,
     "metadata": {},
     "output_type": "execute_result"
    }
   ],
   "source": [
    "# Merge both dataframes along DeviceTimeStamp\n",
    "transformer = pd.merge(tf, cv, on='DeviceTimeStamp', how='outer')\n",
    "transformer.sample(5)"
   ]
  },
  {
   "cell_type": "markdown",
   "id": "feb93703",
   "metadata": {
    "papermill": {
     "duration": 0.021168,
     "end_time": "2024-01-03T05:53:03.740063",
     "exception": false,
     "start_time": "2024-01-03T05:53:03.718895",
     "status": "completed"
    },
    "tags": []
   },
   "source": [
    "<span class=\"label label-default\" style=\"background-color:#DC1010; border-radius:12px; font-weight: bold; font-family:Verdana; font-size:28px; color:#FBFAFC; \">Transformer Parameter Visualization</span>"
   ]
  },
  {
   "cell_type": "code",
   "execution_count": 52,
   "id": "39be2b46",
   "metadata": {
    "execution": {
     "iopub.execute_input": "2024-01-03T05:53:03.787145Z",
     "iopub.status.busy": "2024-01-03T05:53:03.786311Z",
     "iopub.status.idle": "2024-01-03T05:53:05.639849Z",
     "shell.execute_reply": "2024-01-03T05:53:05.638202Z"
    },
    "papermill": {
     "duration": 1.881416,
     "end_time": "2024-01-03T05:53:05.643173",
     "exception": false,
     "start_time": "2024-01-03T05:53:03.761757",
     "status": "completed"
    },
    "tags": []
   },
   "outputs": [
    {
     "data": {
      "text/plain": [
       "<seaborn.axisgrid.FacetGrid at 0x20a81502a90>"
      ]
     },
     "execution_count": 52,
     "metadata": {},
     "output_type": "execute_result"
    },
    {
     "data": {
      "image/png": "[encoded data removed]",
      "text/plain": [
       "<Figure size 572.125x250 with 2 Axes>"
      ]
     },
     "metadata": {},
     "output_type": "display_data"
    }
   ],
   "source": [
    "sns.relplot(data=tf, x=\"OTI\", y=\"ATI\", hue=\"WTI\",col=\"MOG_A\")"
   ]
  },
  {
   "cell_type": "code",
   "execution_count": 53,
   "id": "27b74b7b",
   "metadata": {
    "execution": {
     "iopub.execute_input": "2024-01-03T05:53:05.689016Z",
     "iopub.status.busy": "2024-01-03T05:53:05.688538Z",
     "iopub.status.idle": "2024-01-03T05:53:06.084206Z",
     "shell.execute_reply": "2024-01-03T05:53:06.082709Z"
    },
    "papermill": {
     "duration": 0.422307,
     "end_time": "2024-01-03T05:53:06.087602",
     "exception": false,
     "start_time": "2024-01-03T05:53:05.665295",
     "status": "completed"
    },
    "tags": []
   },
   "outputs": [
    {
     "data": {
      "image/png": "[encoded data removed]",
      "text/plain": [
       "<Figure size 900x200 with 1 Axes>"
      ]
     },
     "metadata": {},
     "output_type": "display_data"
    }
   ],
   "source": [
    "# Oil Temperature\n",
    "plt.figure(figsize=(18,4))\n",
    "\n",
    "plt.plot(transformer.DeviceTimeStamp, transformer.OTI, label=\"Oil Temperature Indicator\",color='red')\n",
    "plt.title(\"Long-term transformer Oil Temperature\",fontsize = 30,color='Red')\n",
    "plt.legend()\n",
    "plt.xlabel(\"Time\")\n",
    "plt.ylabel(\"Temperature (C°)\")\n",
    "plt.show() "
   ]
  },
  {
   "cell_type": "code",
   "execution_count": 54,
   "id": "977b19a2",
   "metadata": {
    "execution": {
     "iopub.execute_input": "2024-01-03T05:53:06.138391Z",
     "iopub.status.busy": "2024-01-03T05:53:06.137829Z",
     "iopub.status.idle": "2024-01-03T05:53:06.545298Z",
     "shell.execute_reply": "2024-01-03T05:53:06.543534Z"
    },
    "papermill": {
     "duration": 0.43818,
     "end_time": "2024-01-03T05:53:06.549112",
     "exception": false,
     "start_time": "2024-01-03T05:53:06.110932",
     "status": "completed"
    },
    "tags": []
   },
   "outputs": [
    {
     "data": {
      "image/png": "[encoded data removed]",
      "text/plain": [
       "<Figure size 900x200 with 1 Axes>"
      ]
     },
     "metadata": {},
     "output_type": "display_data"
    }
   ],
   "source": [
    "# Winding Temperature Indicator Alarm\n",
    "plt.figure(figsize=(18,4))\n",
    "\n",
    "plt.plot(transformer.DeviceTimeStamp, transformer.WTI, label=\"Winding Temperature Indicator Alarm\",color='green')\n",
    "plt.title(\"Long-term Winding Temperature\",fontsize = 30,color='Green')\n",
    "plt.legend()\n",
    "plt.xlabel(\"Time\")\n",
    "plt.ylabel(\"Normal: '0' & Fault '1'\")\n",
    "plt.show() "
   ]
  },
  {
   "cell_type": "code",
   "execution_count": 55,
   "id": "9f81d3d2",
   "metadata": {
    "execution": {
     "iopub.execute_input": "2024-01-03T05:53:06.598336Z",
     "iopub.status.busy": "2024-01-03T05:53:06.597780Z",
     "iopub.status.idle": "2024-01-03T05:53:06.990172Z",
     "shell.execute_reply": "2024-01-03T05:53:06.988405Z"
    },
    "papermill": {
     "duration": 0.420334,
     "end_time": "2024-01-03T05:53:06.993237",
     "exception": false,
     "start_time": "2024-01-03T05:53:06.572903",
     "status": "completed"
    },
    "tags": []
   },
   "outputs": [
    {
     "data": {
      "image/png": "[encoded data removed]",
      "text/plain": [
       "<Figure size 900x200 with 1 Axes>"
      ]
     },
     "metadata": {},
     "output_type": "display_data"
    }
   ],
   "source": [
    "# Oil Temperature Indicator Alarm OTIT\n",
    "\n",
    "plt.figure(figsize=(18,4))\n",
    "plt.plot(transformer.DeviceTimeStamp, transformer.OTI_A, label=\"Oil Temperature Indicator Alarm OTIT\")\n",
    "plt.title(\"Long-term Oil Temperature Indicator Alarm OTIT\",fontsize = 30,color='Blue')\n",
    "plt.legend()\n",
    "plt.xlabel(\"Time\")\n",
    "plt.ylabel(\"Normal: '0' & Fault '1'\")\n",
    "plt.show() "
   ]
  },
  {
   "cell_type": "code",
   "execution_count": 56,
   "id": "017d04b5",
   "metadata": {
    "execution": {
     "iopub.execute_input": "2024-01-03T05:53:07.044723Z",
     "iopub.status.busy": "2024-01-03T05:53:07.044169Z",
     "iopub.status.idle": "2024-01-03T05:53:07.433718Z",
     "shell.execute_reply": "2024-01-03T05:53:07.432205Z"
    },
    "papermill": {
     "duration": 0.419225,
     "end_time": "2024-01-03T05:53:07.436747",
     "exception": false,
     "start_time": "2024-01-03T05:53:07.017522",
     "status": "completed"
    },
    "tags": []
   },
   "outputs": [
    {
     "data": {
      "image/png": "[encoded data removed]",
      "text/plain": [
       "<Figure size 900x200 with 1 Axes>"
      ]
     },
     "metadata": {},
     "output_type": "display_data"
    }
   ],
   "source": [
    "plt.figure(figsize=(18,4))\n",
    "plt.plot(transformer.DeviceTimeStamp, transformer.OTI_T, label=\"Temperature Indicator Trip\",color='Orange')\n",
    "plt.title(\"Long-term Oil Temperature Indicator Trip\",fontsize = 30,color='Orange')\n",
    "plt.legend()\n",
    "plt.xlabel(\"Time\")\n",
    "plt.ylabel(\"Normal: '0' & Fault '1'\")\n",
    "plt.show() "
   ]
  },
  {
   "cell_type": "code",
   "execution_count": 57,
   "id": "554b3389",
   "metadata": {
    "execution": {
     "iopub.execute_input": "2024-01-03T05:53:07.488196Z",
     "iopub.status.busy": "2024-01-03T05:53:07.487698Z",
     "iopub.status.idle": "2024-01-03T05:53:07.872936Z",
     "shell.execute_reply": "2024-01-03T05:53:07.871807Z"
    },
    "papermill": {
     "duration": 0.414678,
     "end_time": "2024-01-03T05:53:07.875880",
     "exception": false,
     "start_time": "2024-01-03T05:53:07.461202",
     "status": "completed"
    },
    "tags": []
   },
   "outputs": [
    {
     "data": {
      "image/png": "[encoded data removed]",
      "text/plain": [
       "<Figure size 900x200 with 1 Axes>"
      ]
     },
     "metadata": {},
     "output_type": "display_data"
    }
   ],
   "source": [
    "plt.figure(figsize=(18,4))\n",
    "plt.plot(transformer.DeviceTimeStamp, transformer.OLI, label=\"Oil Level Indicator\",color='Brown')\n",
    "plt.title(\"Long-term Oil Level Indicator\",fontsize = 30,color='Brown')\n",
    "plt.legend()\n",
    "plt.xlabel(\"Time\")\n",
    "plt.ylabel(\"Height (cm)\")\n",
    "plt.show() "
   ]
  },
  {
   "cell_type": "code",
   "execution_count": 58,
   "id": "442eb6bf",
   "metadata": {
    "execution": {
     "iopub.execute_input": "2024-01-03T05:53:07.928699Z",
     "iopub.status.busy": "2024-01-03T05:53:07.927658Z",
     "iopub.status.idle": "2024-01-03T05:53:08.231150Z",
     "shell.execute_reply": "2024-01-03T05:53:08.229720Z"
    },
    "papermill": {
     "duration": 0.333631,
     "end_time": "2024-01-03T05:53:08.234717",
     "exception": false,
     "start_time": "2024-01-03T05:53:07.901086",
     "status": "completed"
    },
    "tags": []
   },
   "outputs": [
    {
     "data": {
      "image/png": "[encoded data removed]",
      "text/plain": [
       "<Figure size 900x200 with 1 Axes>"
      ]
     },
     "metadata": {},
     "output_type": "display_data"
    }
   ],
   "source": [
    "plt.figure(figsize=(18,4))\n",
    "\n",
    "plt.plot(transformer.DeviceTimeStamp, transformer.MOG_A, label=\"Magnetic oil gauge indicator\",color='Magenta')\n",
    "plt.title(\"Long-term Magnetic oil gauge indicator\",fontsize = 30,color='Magenta')\n",
    "plt.legend()\n",
    "plt.xlabel(\"Time\")\n",
    "plt.ylabel(\"Height (cm)\")\n",
    "plt.show() "
   ]
  },
  {
   "cell_type": "code",
   "execution_count": 59,
   "id": "99897a64",
   "metadata": {
    "execution": {
     "iopub.execute_input": "2024-01-03T05:53:08.289301Z",
     "iopub.status.busy": "2024-01-03T05:53:08.288277Z",
     "iopub.status.idle": "2024-01-03T05:53:08.795933Z",
     "shell.execute_reply": "2024-01-03T05:53:08.793960Z"
    },
    "papermill": {
     "duration": 0.540831,
     "end_time": "2024-01-03T05:53:08.801199",
     "exception": false,
     "start_time": "2024-01-03T05:53:08.260368",
     "status": "completed"
    },
    "tags": []
   },
   "outputs": [
    {
     "data": {
      "image/png": "[encoded data removed]",
      "text/plain": [
       "<Figure size 900x300 with 2 Axes>"
      ]
     },
     "metadata": {},
     "output_type": "display_data"
    }
   ],
   "source": [
    "plt.rcParams['legend.fontsize'] = 12\n",
    "plt.rcParams[\"axes.labelsize\"] = 20\n",
    "\n",
    "plt.figure(figsize=(18,6))\n",
    "ax = plt.subplot(1,2,1)\n",
    "ax = sns.countplot(x='OTI_A', data=transformer, palette='RdBu')\n",
    "ax.bar_label(ax.containers[0])\n",
    "plt.title(\"Oil Temperature Indicator Alarm OTIT\", fontsize=20,color='Olive',font='Comic Sans MS',pad=30)\n",
    "plt.legend(labels=['Normal','Alarm'])\n",
    "plt.axis('off');\n",
    "\n",
    "ax =plt.subplot(1,2,2)\n",
    "ax=transformer['OTI_A'].value_counts().plot.pie(explode=[0.1, 0.5],autopct='%1.2f%%',shadow=True);\n",
    "ax.set_title(label = \"Oil Temperature Indicator Alarm OTIT\", fontsize = 20,color='Olive',font='Comic Sans MS',pad= 30);\n",
    "plt.legend()\n",
    "plt.axis('off');"
   ]
  },
  {
   "cell_type": "code",
   "execution_count": 60,
   "id": "6da8fa4e",
   "metadata": {
    "execution": {
     "iopub.execute_input": "2024-01-03T05:53:08.861545Z",
     "iopub.status.busy": "2024-01-03T05:53:08.860683Z",
     "iopub.status.idle": "2024-01-03T05:53:09.452029Z",
     "shell.execute_reply": "2024-01-03T05:53:09.450545Z"
    },
    "papermill": {
     "duration": 0.624027,
     "end_time": "2024-01-03T05:53:09.455595",
     "exception": false,
     "start_time": "2024-01-03T05:53:08.831568",
     "status": "completed"
    },
    "tags": []
   },
   "outputs": [
    {
     "data": {
      "text/plain": [
       "(-1.25, 1.25, -1.25, 1.25)"
      ]
     },
     "execution_count": 60,
     "metadata": {},
     "output_type": "execute_result"
    },
    {
     "data": {
      "image/png": "[encoded data removed]",
      "text/plain": [
       "<Figure size 900x300 with 2 Axes>"
      ]
     },
     "metadata": {},
     "output_type": "display_data"
    }
   ],
   "source": [
    "plt.rcParams['legend.fontsize'] = 15\n",
    "plt.rcParams[\"axes.labelsize\"] = 20\n",
    "plt.rcParams[\"axes.labelcolor\"] = 'brown'\n",
    "\n",
    "plt.figure(figsize=(18,6))\n",
    "ax = plt.subplot(1,2,1)\n",
    "ax = sns.countplot(x='OTI_T', data=transformer, palette='rainbow')\n",
    "ax.bar_label(ax.containers[0])\n",
    "plt.title(\"Oil Temperature Indicator Trip\", fontsize=30,color='Brown',font='Comic Sans MS',pad=30)\n",
    "plt.legend(labels=['Normal','Alarm'])\n",
    "plt.axis('off')\n",
    "\n",
    "ax =plt.subplot(1,2,2)\n",
    "ax=transformer['OTI_T'].value_counts().plot.pie(explode=[0.1, 0.5],autopct='%1.2f%%',shadow=True);\n",
    "ax.set_title(label = \"Oil Temperature Indicator Trip\", fontsize = 30,color='Brown',font='Comic Sans MS',pad= 30);\n",
    "plt.legend()\n",
    "plt.axis('off')"
   ]
  },
  {
   "cell_type": "code",
   "execution_count": 61,
   "id": "e424ff14",
   "metadata": {
    "execution": {
     "iopub.execute_input": "2024-01-03T05:53:09.513511Z",
     "iopub.status.busy": "2024-01-03T05:53:09.512673Z",
     "iopub.status.idle": "2024-01-03T05:53:10.009731Z",
     "shell.execute_reply": "2024-01-03T05:53:10.007884Z"
    },
    "papermill": {
     "duration": 0.532609,
     "end_time": "2024-01-03T05:53:10.016429",
     "exception": false,
     "start_time": "2024-01-03T05:53:09.483820",
     "status": "completed"
    },
    "tags": []
   },
   "outputs": [
    {
     "data": {
      "text/plain": [
       "(-1.25, 1.25, -1.25, 1.25)"
      ]
     },
     "execution_count": 61,
     "metadata": {},
     "output_type": "execute_result"
    },
    {
     "data": {
      "image/png": "[encoded data removed]",
      "text/plain": [
       "<Figure size 900x300 with 2 Axes>"
      ]
     },
     "metadata": {},
     "output_type": "display_data"
    }
   ],
   "source": [
    "plt.figure(figsize=(18,6))\n",
    "ax = plt.subplot(1,2,1)\n",
    "ax = sns.countplot(x='MOG_A', data=transformer, palette='rainbow')\n",
    "ax.bar_label(ax.containers[0])\n",
    "plt.title(\"Magnetic oil gauge indicator\", fontsize=30,color='Tomato',font='Comic Sans MS',pad=30)\n",
    "plt.legend(labels=['Normal','Alarm'])\n",
    "plt.axis('off')\n",
    "\n",
    "ax =plt.subplot(1,2,2)\n",
    "ax=transformer['MOG_A'].value_counts().plot.pie(explode=[0.1, 0.2],autopct='%1.2f%%',shadow=True);\n",
    "ax.set_title(label = \"Magnetic oil gauge indicator\", fontsize = 30,color='Tomato',font='Comic Sans MS',pad= 30);\n",
    "plt.legend()\n",
    "plt.axis('off')"
   ]
  },
  {
   "cell_type": "markdown",
   "id": "4ba8584a",
   "metadata": {
    "papermill": {
     "duration": 0.027205,
     "end_time": "2024-01-03T05:53:10.077876",
     "exception": false,
     "start_time": "2024-01-03T05:53:10.050671",
     "status": "completed"
    },
    "tags": []
   },
   "source": [
    "<span class=\"label label-default\" style=\"background-color:#DC1010; border-radius:12px; font-weight: bold; font-family:Verdana; font-size:28px; color:#FBFAFC; \">Train Test Split</span>"
   ]
  },
  {
   "cell_type": "code",
   "execution_count": 62,
   "id": "cc0674e7",
   "metadata": {
    "execution": {
     "iopub.execute_input": "2024-01-03T05:53:10.136673Z",
     "iopub.status.busy": "2024-01-03T05:53:10.134983Z",
     "iopub.status.idle": "2024-01-03T05:53:10.146168Z",
     "shell.execute_reply": "2024-01-03T05:53:10.144707Z"
    },
    "papermill": {
     "duration": 0.043532,
     "end_time": "2024-01-03T05:53:10.149436",
     "exception": false,
     "start_time": "2024-01-03T05:53:10.105904",
     "status": "completed"
    },
    "tags": []
   },
   "outputs": [
    {
     "data": {
      "text/html": [
       "<div>\n",
       "<style scoped>\n",
       "    .dataframe tbody tr th:only-of-type {\n",
       "        vertical-align: middle;\n",
       "    }\n",
       "\n",
       "    .dataframe tbody tr th {\n",
       "        vertical-align: top;\n",
       "    }\n",
       "\n",
       "    .dataframe thead th {\n",
       "        text-align: right;\n",
       "    }\n",
       "</style>\n",
       "<table border=\"1\" class=\"dataframe\">\n",
       "  <thead>\n",
       "    <tr style=\"text-align: right;\">\n",
       "      <th></th>\n",
       "      <th>OTI</th>\n",
       "      <th>WTI</th>\n",
       "      <th>ATI</th>\n",
       "      <th>OLI</th>\n",
       "      <th>OTI_A</th>\n",
       "      <th>OTI_T</th>\n",
       "      <th>VL1</th>\n",
       "      <th>VL2</th>\n",
       "      <th>VL3</th>\n",
       "      <th>IL1</th>\n",
       "      <th>IL2</th>\n",
       "      <th>IL3</th>\n",
       "      <th>VL12</th>\n",
       "      <th>VL23</th>\n",
       "      <th>VL31</th>\n",
       "      <th>INUT</th>\n",
       "    </tr>\n",
       "  </thead>\n",
       "  <tbody>\n",
       "    <tr>\n",
       "      <th>0</th>\n",
       "      <td>0.0</td>\n",
       "      <td>0.0</td>\n",
       "      <td>0.0</td>\n",
       "      <td>37.0</td>\n",
       "      <td>0.0</td>\n",
       "      <td>0.0</td>\n",
       "      <td>0.0</td>\n",
       "      <td>0.0</td>\n",
       "      <td>0.0</td>\n",
       "      <td>0.0</td>\n",
       "      <td>0.0</td>\n",
       "      <td>0.0</td>\n",
       "      <td>0.0</td>\n",
       "      <td>0.0</td>\n",
       "      <td>0.0</td>\n",
       "      <td>0.0</td>\n",
       "    </tr>\n",
       "    <tr>\n",
       "      <th>1</th>\n",
       "      <td>0.0</td>\n",
       "      <td>0.0</td>\n",
       "      <td>0.0</td>\n",
       "      <td>37.0</td>\n",
       "      <td>0.0</td>\n",
       "      <td>0.0</td>\n",
       "      <td>0.0</td>\n",
       "      <td>0.0</td>\n",
       "      <td>0.0</td>\n",
       "      <td>0.0</td>\n",
       "      <td>0.0</td>\n",
       "      <td>0.0</td>\n",
       "      <td>0.0</td>\n",
       "      <td>0.0</td>\n",
       "      <td>0.0</td>\n",
       "      <td>0.0</td>\n",
       "    </tr>\n",
       "    <tr>\n",
       "      <th>2</th>\n",
       "      <td>0.0</td>\n",
       "      <td>0.0</td>\n",
       "      <td>0.0</td>\n",
       "      <td>38.0</td>\n",
       "      <td>0.0</td>\n",
       "      <td>0.0</td>\n",
       "      <td>238.7</td>\n",
       "      <td>238.7</td>\n",
       "      <td>238.8</td>\n",
       "      <td>0.0</td>\n",
       "      <td>0.0</td>\n",
       "      <td>0.0</td>\n",
       "      <td>0.0</td>\n",
       "      <td>0.0</td>\n",
       "      <td>0.0</td>\n",
       "      <td>0.0</td>\n",
       "    </tr>\n",
       "    <tr>\n",
       "      <th>3</th>\n",
       "      <td>0.0</td>\n",
       "      <td>0.0</td>\n",
       "      <td>0.0</td>\n",
       "      <td>38.0</td>\n",
       "      <td>0.0</td>\n",
       "      <td>0.0</td>\n",
       "      <td>238.4</td>\n",
       "      <td>238.5</td>\n",
       "      <td>238.5</td>\n",
       "      <td>0.0</td>\n",
       "      <td>0.0</td>\n",
       "      <td>0.0</td>\n",
       "      <td>0.0</td>\n",
       "      <td>0.0</td>\n",
       "      <td>0.0</td>\n",
       "      <td>0.0</td>\n",
       "    </tr>\n",
       "    <tr>\n",
       "      <th>4</th>\n",
       "      <td>0.0</td>\n",
       "      <td>0.0</td>\n",
       "      <td>0.0</td>\n",
       "      <td>39.0</td>\n",
       "      <td>0.0</td>\n",
       "      <td>0.0</td>\n",
       "      <td>239.9</td>\n",
       "      <td>240.0</td>\n",
       "      <td>240.0</td>\n",
       "      <td>0.0</td>\n",
       "      <td>0.0</td>\n",
       "      <td>0.0</td>\n",
       "      <td>0.0</td>\n",
       "      <td>0.0</td>\n",
       "      <td>0.0</td>\n",
       "      <td>0.0</td>\n",
       "    </tr>\n",
       "  </tbody>\n",
       "</table>\n",
       "</div>"
      ],
      "text/plain": [
       "   OTI  WTI  ATI   OLI  OTI_A  OTI_T    VL1    VL2    VL3  IL1  IL2  IL3  \\\n",
       "0  0.0  0.0  0.0  37.0    0.0    0.0    0.0    0.0    0.0  0.0  0.0  0.0   \n",
       "1  0.0  0.0  0.0  37.0    0.0    0.0    0.0    0.0    0.0  0.0  0.0  0.0   \n",
       "2  0.0  0.0  0.0  38.0    0.0    0.0  238.7  238.7  238.8  0.0  0.0  0.0   \n",
       "3  0.0  0.0  0.0  38.0    0.0    0.0  238.4  238.5  238.5  0.0  0.0  0.0   \n",
       "4  0.0  0.0  0.0  39.0    0.0    0.0  239.9  240.0  240.0  0.0  0.0  0.0   \n",
       "\n",
       "   VL12  VL23  VL31  INUT  \n",
       "0   0.0   0.0   0.0   0.0  \n",
       "1   0.0   0.0   0.0   0.0  \n",
       "2   0.0   0.0   0.0   0.0  \n",
       "3   0.0   0.0   0.0   0.0  \n",
       "4   0.0   0.0   0.0   0.0  "
      ]
     },
     "execution_count": 62,
     "metadata": {},
     "output_type": "execute_result"
    }
   ],
   "source": [
    "X = transformer.drop(['DeviceTimeStamp','MOG_A'],axis=1).fillna(0)\n",
    "\n",
    "y = transformer['MOG_A'].fillna(0)\n",
    "\n",
    "\n",
    "X.head()"
   ]
  },
  {
   "cell_type": "code",
   "execution_count": 63,
   "id": "8fe825a7",
   "metadata": {
    "execution": {
     "iopub.execute_input": "2024-01-03T05:53:10.207313Z",
     "iopub.status.busy": "2024-01-03T05:53:10.206708Z",
     "iopub.status.idle": "2024-01-03T05:53:10.457974Z",
     "shell.execute_reply": "2024-01-03T05:53:10.456471Z"
    },
    "papermill": {
     "duration": 0.28388,
     "end_time": "2024-01-03T05:53:10.461556",
     "exception": false,
     "start_time": "2024-01-03T05:53:10.177676",
     "status": "completed"
    },
    "tags": []
   },
   "outputs": [
    {
     "data": {
      "text/html": [
       "<div>\n",
       "<style scoped>\n",
       "    .dataframe tbody tr th:only-of-type {\n",
       "        vertical-align: middle;\n",
       "    }\n",
       "\n",
       "    .dataframe tbody tr th {\n",
       "        vertical-align: top;\n",
       "    }\n",
       "\n",
       "    .dataframe thead th {\n",
       "        text-align: right;\n",
       "    }\n",
       "</style>\n",
       "<table border=\"1\" class=\"dataframe\">\n",
       "  <thead>\n",
       "    <tr style=\"text-align: right;\">\n",
       "      <th></th>\n",
       "      <th>OTI</th>\n",
       "      <th>WTI</th>\n",
       "      <th>ATI</th>\n",
       "      <th>OLI</th>\n",
       "      <th>OTI_A</th>\n",
       "      <th>OTI_T</th>\n",
       "      <th>VL1</th>\n",
       "      <th>VL2</th>\n",
       "      <th>VL3</th>\n",
       "      <th>IL1</th>\n",
       "      <th>IL2</th>\n",
       "      <th>IL3</th>\n",
       "      <th>VL12</th>\n",
       "      <th>VL23</th>\n",
       "      <th>VL31</th>\n",
       "      <th>INUT</th>\n",
       "    </tr>\n",
       "  </thead>\n",
       "  <tbody>\n",
       "    <tr>\n",
       "      <th>12880</th>\n",
       "      <td>26.0</td>\n",
       "      <td>0.0</td>\n",
       "      <td>26.0</td>\n",
       "      <td>97.0</td>\n",
       "      <td>0.0</td>\n",
       "      <td>0.0</td>\n",
       "      <td>245.7</td>\n",
       "      <td>244.4</td>\n",
       "      <td>243.1</td>\n",
       "      <td>39.1</td>\n",
       "      <td>32.7</td>\n",
       "      <td>51.6</td>\n",
       "      <td>424.2</td>\n",
       "      <td>422.1</td>\n",
       "      <td>424.0</td>\n",
       "      <td>19.8</td>\n",
       "    </tr>\n",
       "    <tr>\n",
       "      <th>13961</th>\n",
       "      <td>25.0</td>\n",
       "      <td>0.0</td>\n",
       "      <td>25.0</td>\n",
       "      <td>100.0</td>\n",
       "      <td>0.0</td>\n",
       "      <td>0.0</td>\n",
       "      <td>247.2</td>\n",
       "      <td>246.2</td>\n",
       "      <td>244.2</td>\n",
       "      <td>66.7</td>\n",
       "      <td>44.5</td>\n",
       "      <td>61.0</td>\n",
       "      <td>427.5</td>\n",
       "      <td>425.0</td>\n",
       "      <td>426.4</td>\n",
       "      <td>19.9</td>\n",
       "    </tr>\n",
       "    <tr>\n",
       "      <th>617</th>\n",
       "      <td>33.0</td>\n",
       "      <td>0.0</td>\n",
       "      <td>34.0</td>\n",
       "      <td>39.0</td>\n",
       "      <td>0.0</td>\n",
       "      <td>0.0</td>\n",
       "      <td>238.7</td>\n",
       "      <td>238.7</td>\n",
       "      <td>238.8</td>\n",
       "      <td>0.0</td>\n",
       "      <td>0.0</td>\n",
       "      <td>0.0</td>\n",
       "      <td>0.0</td>\n",
       "      <td>0.0</td>\n",
       "      <td>0.0</td>\n",
       "      <td>0.0</td>\n",
       "    </tr>\n",
       "    <tr>\n",
       "      <th>7449</th>\n",
       "      <td>40.0</td>\n",
       "      <td>0.0</td>\n",
       "      <td>35.0</td>\n",
       "      <td>41.0</td>\n",
       "      <td>0.0</td>\n",
       "      <td>0.0</td>\n",
       "      <td>236.7</td>\n",
       "      <td>234.9</td>\n",
       "      <td>236.3</td>\n",
       "      <td>83.6</td>\n",
       "      <td>89.0</td>\n",
       "      <td>92.0</td>\n",
       "      <td>407.9</td>\n",
       "      <td>407.2</td>\n",
       "      <td>410.3</td>\n",
       "      <td>7.2</td>\n",
       "    </tr>\n",
       "    <tr>\n",
       "      <th>3816</th>\n",
       "      <td>35.0</td>\n",
       "      <td>0.0</td>\n",
       "      <td>31.0</td>\n",
       "      <td>39.0</td>\n",
       "      <td>0.0</td>\n",
       "      <td>0.0</td>\n",
       "      <td>235.2</td>\n",
       "      <td>234.1</td>\n",
       "      <td>235.3</td>\n",
       "      <td>60.9</td>\n",
       "      <td>51.5</td>\n",
       "      <td>75.1</td>\n",
       "      <td>404.4</td>\n",
       "      <td>404.1</td>\n",
       "      <td>407.0</td>\n",
       "      <td>23.4</td>\n",
       "    </tr>\n",
       "  </tbody>\n",
       "</table>\n",
       "</div>"
      ],
      "text/plain": [
       "        OTI  WTI   ATI    OLI  OTI_A  OTI_T    VL1    VL2    VL3   IL1   IL2  \\\n",
       "12880  26.0  0.0  26.0   97.0    0.0    0.0  245.7  244.4  243.1  39.1  32.7   \n",
       "13961  25.0  0.0  25.0  100.0    0.0    0.0  247.2  246.2  244.2  66.7  44.5   \n",
       "617    33.0  0.0  34.0   39.0    0.0    0.0  238.7  238.7  238.8   0.0   0.0   \n",
       "7449   40.0  0.0  35.0   41.0    0.0    0.0  236.7  234.9  236.3  83.6  89.0   \n",
       "3816   35.0  0.0  31.0   39.0    0.0    0.0  235.2  234.1  235.3  60.9  51.5   \n",
       "\n",
       "        IL3   VL12   VL23   VL31  INUT  \n",
       "12880  51.6  424.2  422.1  424.0  19.8  \n",
       "13961  61.0  427.5  425.0  426.4  19.9  \n",
       "617     0.0    0.0    0.0    0.0   0.0  \n",
       "7449   92.0  407.9  407.2  410.3   7.2  \n",
       "3816   75.1  404.4  404.1  407.0  23.4  "
      ]
     },
     "execution_count": 63,
     "metadata": {},
     "output_type": "execute_result"
    }
   ],
   "source": [
    "from sklearn.model_selection import train_test_split\n",
    "X_train,X_test,y_train,y_test = train_test_split(X,y,test_size=.20,random_state=21)\n",
    "X_train.head()"
   ]
  },
  {
   "cell_type": "markdown",
   "id": "63879707",
   "metadata": {
    "papermill": {
     "duration": 0.026441,
     "end_time": "2024-01-03T05:53:10.515051",
     "exception": false,
     "start_time": "2024-01-03T05:53:10.488610",
     "status": "completed"
    },
    "tags": []
   },
   "source": [
    "<span class=\"label label-default\" style=\"background-color:#DC1010; border-radius:12px; font-weight: bold; font-family:Verdana; font-size:28px; color:#FBFAFC; \">Normalizing the data</span>"
   ]
  },
  {
   "cell_type": "code",
   "execution_count": 64,
   "id": "b9d5a4a7",
   "metadata": {
    "execution": {
     "iopub.execute_input": "2024-01-03T05:53:10.571924Z",
     "iopub.status.busy": "2024-01-03T05:53:10.570982Z",
     "iopub.status.idle": "2024-01-03T05:53:10.590362Z",
     "shell.execute_reply": "2024-01-03T05:53:10.588709Z"
    },
    "papermill": {
     "duration": 0.051584,
     "end_time": "2024-01-03T05:53:10.593717",
     "exception": false,
     "start_time": "2024-01-03T05:53:10.542133",
     "status": "completed"
    },
    "tags": []
   },
   "outputs": [],
   "source": [
    "from sklearn.preprocessing import MinMaxScaler\n",
    "scaler = MinMaxScaler()\n",
    "X_train = scaler.fit_transform(X_train)\n",
    "X_test = scaler.transform(X_test)"
   ]
  },
  {
   "cell_type": "markdown",
   "id": "848e2f01",
   "metadata": {
    "papermill": {
     "duration": 0.026699,
     "end_time": "2024-01-03T05:53:10.647878",
     "exception": false,
     "start_time": "2024-01-03T05:53:10.621179",
     "status": "completed"
    },
    "tags": []
   },
   "source": [
    "<div style=\"color:white;background-color:Red;padding:2%;border-radius:150px 150px;font-size:3em;text-align:center\">Model Implementation</div>"
   ]
  },
  {
   "cell_type": "markdown",
   "id": "375dd78b",
   "metadata": {
    "papermill": {
     "duration": 0.029867,
     "end_time": "2024-01-03T05:53:30.107467",
     "exception": false,
     "start_time": "2024-01-03T05:53:30.077600",
     "status": "completed"
    },
    "tags": []
   },
   "source": [
    "<div style=\"color:white;\n",
    "           display:fill;\n",
    "           border-radius:5px;\n",
    "           background-color:#5642C5;\n",
    "           font-size:33px;\n",
    "           font-family:Nexa;\n",
    "           letter-spacing:0.5px\">\n",
    "        <p style=\"padding: 15px;\n",
    "              color:white;\">\n",
    "            <b>1. RandomForestClassifier</b>\n",
    "        </p>\n",
    "</div>"
   ]
  },
  {
   "cell_type": "code",
   "execution_count": 65,
   "id": "0ef45b1e",
   "metadata": {},
   "outputs": [],
   "source": [
    "model_accuracy= \"Model Accuracy :\"\n",
    "training_accuracy=\"Training Accuracy :\"\n",
    "from sklearn.metrics import accuracy_score, classification_report, confusion_matrix, ConfusionMatrixDisplay\n",
    "import matplotlib.pyplot as plt  # Import for plotting\n"
   ]
  },
  {
   "cell_type": "code",
   "execution_count": 84,
   "id": "e870dc21",
   "metadata": {
    "execution": {
     "iopub.execute_input": "2024-01-03T05:53:30.169516Z",
     "iopub.status.busy": "2024-01-03T05:53:30.168999Z",
     "iopub.status.idle": "2024-01-03T05:53:32.905298Z",
     "shell.execute_reply": "2024-01-03T05:53:32.903886Z"
    },
    "papermill": {
     "duration": 2.771543,
     "end_time": "2024-01-03T05:53:32.908858",
     "exception": false,
     "start_time": "2024-01-03T05:53:30.137315",
     "status": "completed"
    },
    "tags": []
   },
   "outputs": [
    {
     "name": "stdout",
     "output_type": "stream",
     "text": [
      "Training Accuracy : 99.94 %\n",
      "Model Accuracy : 98.81 %\n",
      "\u001b[1m--------------------------------------------------------\u001b[0m\n",
      "Classification_Report: \n",
      "               precision    recall  f1-score   support\n",
      "\n",
      "         0.0       0.99      0.99      0.99      3848\n",
      "         1.0       0.93      0.95      0.94       425\n",
      "\n",
      "    accuracy                           0.99      4273\n",
      "   macro avg       0.96      0.97      0.97      4273\n",
      "weighted avg       0.99      0.99      0.99      4273\n",
      "\n",
      "\u001b[1m--------------------------------------------------------\u001b[0m\n",
      "Weighted F1-score: 0.94\n",
      "Weighted Precision: 0.93\n"
     ]
    },
    {
     "data": {
      "image/png": "[encoded data removed]",
      "text/plain": [
       "<Figure size 700x400 with 2 Axes>"
      ]
     },
     "metadata": {},
     "output_type": "display_data"
    }
   ],
   "source": [
    "# Random Forest\n",
    "from sklearn.ensemble import RandomForestClassifier\n",
    "# from sklearn.metrics import accuracy_score, f1_score, precision_score\n",
    "\n",
    "random_forest = RandomForestClassifier(n_estimators=100)\n",
    "random_forest.fit(X_train, y_train)\n",
    "y_pred_rf = random_forest.predict(X_test)\n",
    "random_forest.score(X_train, y_train)\n",
    "\n",
    "random_forest_train = round(random_forest.score(X_train, y_train) * 100, 2)\n",
    "random_forest_accuracy = round(accuracy_score(y_pred_rf, y_test) * 100, 2)\n",
    "\n",
    "print(training_accuracy,random_forest_train ,\"%\")\n",
    "print(model_accuracy,random_forest_accuracy ,\"%\")\n",
    "print(\"\\033[1m--------------------------------------------------------\\033[0m\")\n",
    "print(\"Classification_Report: \\n\",classification_report(y_test,y_pred_rf))\n",
    "print(\"\\033[1m--------------------------------------------------------\\033[0m\")\n",
    "# Create and display the confusion matrix\n",
    "cm = confusion_matrix(y_test, y_pred_rf)  # Calculate confusion matrix\n",
    "# # Calculate F1-score and precision in one line\n",
    "# f1 = f1_score(y_test, y_pred_rf, average='weighted')  # Weighted F1-score for all classes\n",
    "# precision = precision_score(y_test, y_pred_rf)  # Weighted precision\n",
    "\n",
    "# # Print F1-score and precision\n",
    "# print(f\"Weighted F1-score: {f1:.2f}\")\n",
    "# print(f\"Weighted Precision: {precision:.2f}\")\n",
    "disp = ConfusionMatrixDisplay(confusion_matrix=cm, display_labels=np.unique(y_test))  # Create display\n",
    "disp.plot(cmap=plt.cm.Purples)  # Plot the confusion matrix using Greens colormap\n",
    "plt.title('Confusion Matrix')\n",
    "plt.show()  # Display the plot"
   ]
  },
  {
   "cell_type": "markdown",
   "id": "d19573aa",
   "metadata": {
    "papermill": {
     "duration": 0.034557,
     "end_time": "2024-01-03T05:53:36.878433",
     "exception": false,
     "start_time": "2024-01-03T05:53:36.843876",
     "status": "completed"
    },
    "tags": []
   },
   "source": [
    "<div style=\"color:white;\n",
    "           display:fill;\n",
    "           border-radius:5px;\n",
    "           background-color:#5642C5;\n",
    "           font-size:33px;\n",
    "           font-family:Nexa;\n",
    "           letter-spacing:0.5px\">\n",
    "        <p style=\"padding: 15px;\n",
    "              color:white;\">\n",
    "            <b>2. XGB Classifier</b>\n",
    "        </p>\n",
    "</div>"
   ]
  },
  {
   "cell_type": "code",
   "execution_count": 76,
   "id": "a32c71ab",
   "metadata": {
    "execution": {
     "iopub.execute_input": "2024-01-03T05:53:36.945641Z",
     "iopub.status.busy": "2024-01-03T05:53:36.945132Z",
     "iopub.status.idle": "2024-01-03T05:53:39.113340Z",
     "shell.execute_reply": "2024-01-03T05:53:39.112015Z"
    },
    "papermill": {
     "duration": 2.205645,
     "end_time": "2024-01-03T05:53:39.116576",
     "exception": false,
     "start_time": "2024-01-03T05:53:36.910931",
     "status": "completed"
    },
    "tags": []
   },
   "outputs": [
    {
     "name": "stdout",
     "output_type": "stream",
     "text": [
      "Training Accuracy : 99.91 %\n",
      "Model Accuracy : 98.81 %\n",
      "\u001b[1m--------------------------------------------------------\u001b[0m\n",
      "Classification_Report: \n",
      "               precision    recall  f1-score   support\n",
      "\n",
      "         0.0       0.99      0.99      0.99      3848\n",
      "         1.0       0.93      0.95      0.94       425\n",
      "\n",
      "    accuracy                           0.99      4273\n",
      "   macro avg       0.96      0.97      0.97      4273\n",
      "weighted avg       0.99      0.99      0.99      4273\n",
      "\n",
      "\u001b[1m--------------------------------------------------------\u001b[0m\n",
      "<sklearn.metrics._plot.confusion_matrix.ConfusionMatrixDisplay object at 0x0000020A84941A10>\n"
     ]
    },
    {
     "data": {
      "image/png": "[encoded data removed]",
      "text/plain": [
       "<Figure size 700x400 with 2 Axes>"
      ]
     },
     "metadata": {},
     "output_type": "display_data"
    }
   ],
   "source": [
    "import xgboost as Xgb\n",
    "xgb = Xgb.XGBClassifier()\n",
    "xgb.fit(X_train,y_train)\n",
    "y_pred_xgb = xgb.predict(X_test)\n",
    "xgb.score(X_train, y_train)\n",
    "\n",
    "xgb_train = round(xgb.score(X_train, y_train) * 100, 2)\n",
    "xgb_accuracy = round(accuracy_score(y_pred_xgb, y_test) * 100, 2)\n",
    "\n",
    "print(training_accuracy,xgb_train ,\"%\")\n",
    "print(model_accuracy,xgb_accuracy ,\"%\")\n",
    "print(\"\\033[1m--------------------------------------------------------\\033[0m\")\n",
    "print(\"Classification_Report: \\n\",classification_report(y_test,y_pred_xgb))\n",
    "print(\"\\033[1m--------------------------------------------------------\\033[0m\")\n",
    "# Create and display the confusion matrix\n",
    "cm = confusion_matrix(y_test, y_pred_xgb)  # Calculate confusion matrix\n",
    "disp = ConfusionMatrixDisplay(confusion_matrix=cm, display_labels=np.unique(y_test))  # Create display\n",
    "disp.plot(cmap=plt.cm.Greens)  # Plot the confusion matrix using Greens colormap\n",
    "plt.title('Confusion Matrix')\n",
    "plt.show()  # Display the plot"
   ]
  },
  {
   "cell_type": "markdown",
   "id": "8614d361",
   "metadata": {
    "papermill": {
     "duration": 0.032151,
     "end_time": "2024-01-03T05:53:39.181667",
     "exception": false,
     "start_time": "2024-01-03T05:53:39.149516",
     "status": "completed"
    },
    "tags": []
   },
   "source": [
    "<div style=\"display:fill;\n",
    "            border-radius:15px;\n",
    "            background-color:cyan;\n",
    "            font-size:270%;\n",
    "            font-family:Vardana;\n",
    "            letter-spacing:0.5px;\n",
    "            padding:10px;\n",
    "            color:Red;\n",
    "            border-style: solid;\n",
    "            border-color: red;\n",
    "            text-align:center;\">\n",
    "<b>Comparing Multiple Models</b>\n",
    "</div>"
   ]
  },
  {
   "cell_type": "code",
   "execution_count": 68,
   "id": "9ff2f4a2",
   "metadata": {
    "execution": {
     "iopub.execute_input": "2024-01-03T05:53:39.250109Z",
     "iopub.status.busy": "2024-01-03T05:53:39.249206Z",
     "iopub.status.idle": "2024-01-03T05:53:39.258433Z",
     "shell.execute_reply": "2024-01-03T05:53:39.257395Z"
    },
    "papermill": {
     "duration": 0.047169,
     "end_time": "2024-01-03T05:53:39.261465",
     "exception": false,
     "start_time": "2024-01-03T05:53:39.214296",
     "status": "completed"
    },
    "tags": []
   },
   "outputs": [],
   "source": [
    "models = pd.DataFrame({\n",
    "    'Model': [\n",
    "        'Random Forest','XGBClassifier'\n",
    "    ],\n",
    "    'Training Accuracy': [\n",
    "        random_forest_train,\n",
    "        xgb_train\n",
    "    ],\n",
    "    'Model Accuracy Score': [\n",
    "        random_forest_accuracy,\n",
    "        xgb_accuracy\n",
    "    ]\n",
    "})\n"
   ]
  },
  {
   "cell_type": "code",
   "execution_count": 69,
   "id": "93350cd4",
   "metadata": {
    "execution": {
     "iopub.execute_input": "2024-01-03T05:53:39.329506Z",
     "iopub.status.busy": "2024-01-03T05:53:39.328571Z",
     "iopub.status.idle": "2024-01-03T05:53:39.430753Z",
     "shell.execute_reply": "2024-01-03T05:53:39.429459Z"
    },
    "papermill": {
     "duration": 0.140248,
     "end_time": "2024-01-03T05:53:39.434045",
     "exception": false,
     "start_time": "2024-01-03T05:53:39.293797",
     "status": "completed"
    },
    "tags": []
   },
   "outputs": [
    {
     "name": "stdout",
     "output_type": "stream",
     "text": [
      "model accuracy table\n"
     ]
    },
    {
     "data": {
      "text/html": [
       "<div>\n",
       "<style scoped>\n",
       "    .dataframe tbody tr th:only-of-type {\n",
       "        vertical-align: middle;\n",
       "    }\n",
       "\n",
       "    .dataframe tbody tr th {\n",
       "        vertical-align: top;\n",
       "    }\n",
       "\n",
       "    .dataframe thead th {\n",
       "        text-align: right;\n",
       "    }\n",
       "</style>\n",
       "<table border=\"1\" class=\"dataframe\">\n",
       "  <thead>\n",
       "    <tr style=\"text-align: right;\">\n",
       "      <th></th>\n",
       "      <th>Model</th>\n",
       "      <th>Training Accuracy</th>\n",
       "      <th>Model Accuracy Score</th>\n",
       "    </tr>\n",
       "  </thead>\n",
       "  <tbody>\n",
       "    <tr>\n",
       "      <th>1</th>\n",
       "      <td>XGBClassifier</td>\n",
       "      <td>99.91</td>\n",
       "      <td>98.81</td>\n",
       "    </tr>\n",
       "    <tr>\n",
       "      <th>0</th>\n",
       "      <td>Random Forest</td>\n",
       "      <td>99.94</td>\n",
       "      <td>98.78</td>\n",
       "    </tr>\n",
       "  </tbody>\n",
       "</table>\n",
       "</div>"
      ],
      "text/plain": [
       "           Model  Training Accuracy  Model Accuracy Score\n",
       "1  XGBClassifier              99.91                 98.81\n",
       "0  Random Forest              99.94                 98.78"
      ]
     },
     "execution_count": 69,
     "metadata": {},
     "output_type": "execute_result"
    }
   ],
   "source": [
    "# pd.set_option('precision',1)\n",
    "print(\"model accuracy table\")\n",
    "models.sort_values(by='Model Accuracy Score', ascending=False)\n",
    "\n",
    "\n",
    "# .style.background_gradient(\n",
    "#         cmap='coolwarm').hide_index().set_properties(**{\n",
    "#             'font-family': 'Lucida Calligraphy',\n",
    "#             'color': 'LigntGreen',\n",
    "#             'font-size': '15px'\n",
    "#         })"
   ]
  },
  {
   "cell_type": "code",
   "execution_count": 70,
   "id": "8edbd5b7",
   "metadata": {
    "execution": {
     "iopub.execute_input": "2024-01-03T05:53:39.503205Z",
     "iopub.status.busy": "2024-01-03T05:53:39.502356Z",
     "iopub.status.idle": "2024-01-03T05:53:39.867084Z",
     "shell.execute_reply": "2024-01-03T05:53:39.865674Z"
    },
    "papermill": {
     "duration": 0.404579,
     "end_time": "2024-01-03T05:53:39.871656",
     "exception": false,
     "start_time": "2024-01-03T05:53:39.467077",
     "status": "completed"
    },
    "tags": []
   },
   "outputs": [
    {
     "data": {
      "text/plain": [
       "Text(0, 0.5, 'Training Accuracy')"
      ]
     },
     "execution_count": 70,
     "metadata": {},
     "output_type": "execute_result"
    },
    {
     "data": {
      "image/png": "[encoded data removed]",
      "text/plain": [
       "<Figure size 700x400 with 1 Axes>"
      ]
     },
     "metadata": {},
     "output_type": "display_data"
    }
   ],
   "source": [
    "models=models.sort_values(by='Model Accuracy Score',ascending=False)[:8]\n",
    "\n",
    "sns.barplot(y= 'Model', x= 'Model Accuracy Score', data= models)\n",
    "plt.title('COMPARE THE MODEL')\n",
    "plt.xlabel('MODEL')\n",
    "plt.ylabel('Training Accuracy')"
   ]
  },
  {
   "cell_type": "markdown",
   "id": "0886bd72",
   "metadata": {},
   "source": [
    "<h2><b>Cross Checking XGBoost</b></h2>"
   ]
  },
  {
   "cell_type": "code",
   "execution_count": 71,
   "id": "33f77975",
   "metadata": {
    "execution": {
     "iopub.execute_input": "2024-01-03T05:53:39.946075Z",
     "iopub.status.busy": "2024-01-03T05:53:39.945582Z",
     "iopub.status.idle": "2024-01-03T05:53:40.031871Z",
     "shell.execute_reply": "2024-01-03T05:53:40.030283Z"
    },
    "papermill": {
     "duration": 0.127018,
     "end_time": "2024-01-03T05:53:40.035293",
     "exception": false,
     "start_time": "2024-01-03T05:53:39.908275",
     "status": "completed"
    },
    "tags": []
   },
   "outputs": [
    {
     "name": "stdout",
     "output_type": "stream",
     "text": [
      "[0 0 0 ... 0 0 0]\n"
     ]
    }
   ],
   "source": [
    "prediction_xgb = xgb.predict(X_test)\n",
    "print(prediction_xgb)\n"
   ]
  },
  {
   "cell_type": "code",
   "execution_count": 72,
   "id": "c552e691",
   "metadata": {
    "execution": {
     "iopub.execute_input": "2024-01-03T05:53:40.107322Z",
     "iopub.status.busy": "2024-01-03T05:53:40.106769Z",
     "iopub.status.idle": "2024-01-03T05:53:40.136724Z",
     "shell.execute_reply": "2024-01-03T05:53:40.135276Z"
    },
    "papermill": {
     "duration": 0.069252,
     "end_time": "2024-01-03T05:53:40.139655",
     "exception": false,
     "start_time": "2024-01-03T05:53:40.070403",
     "status": "completed"
    },
    "tags": []
   },
   "outputs": [
    {
     "data": {
      "text/html": [
       "<style type=\"text/css\">\n",
       "#T_e93f2_row0_col0, #T_e93f2_row0_col1, #T_e93f2_row1_col0, #T_e93f2_row1_col1, #T_e93f2_row2_col0, #T_e93f2_row2_col1, #T_e93f2_row3_col0, #T_e93f2_row3_col1, #T_e93f2_row4_col0, #T_e93f2_row4_col1, #T_e93f2_row5_col0, #T_e93f2_row5_col1, #T_e93f2_row7_col0, #T_e93f2_row7_col1, #T_e93f2_row8_col0, #T_e93f2_row8_col1, #T_e93f2_row9_col0, #T_e93f2_row9_col1, #T_e93f2_row10_col0, #T_e93f2_row10_col1, #T_e93f2_row11_col0, #T_e93f2_row11_col1, #T_e93f2_row12_col0, #T_e93f2_row12_col1, #T_e93f2_row13_col0, #T_e93f2_row13_col1, #T_e93f2_row14_col0, #T_e93f2_row14_col1, #T_e93f2_row15_col0, #T_e93f2_row15_col1, #T_e93f2_row16_col0, #T_e93f2_row16_col1, #T_e93f2_row17_col0, #T_e93f2_row17_col1, #T_e93f2_row19_col0, #T_e93f2_row19_col1 {\n",
       "  background-color: #3b4cc0;\n",
       "  color: #f1f1f1;\n",
       "  font-family: Lucida Calligraphy;\n",
       "  color: LightGreen;\n",
       "  font-size: 15px;\n",
       "}\n",
       "#T_e93f2_row6_col0, #T_e93f2_row6_col1, #T_e93f2_row18_col0, #T_e93f2_row18_col1 {\n",
       "  background-color: #b40426;\n",
       "  color: #f1f1f1;\n",
       "  font-family: Lucida Calligraphy;\n",
       "  color: LightGreen;\n",
       "  font-size: 15px;\n",
       "}\n",
       "</style>\n",
       "<table id=\"T_e93f2\">\n",
       "  <thead>\n",
       "    <tr>\n",
       "      <th class=\"blank level0\" >&nbsp;</th>\n",
       "      <th id=\"T_e93f2_level0_col0\" class=\"col_heading level0 col0\" >Actual</th>\n",
       "      <th id=\"T_e93f2_level0_col1\" class=\"col_heading level0 col1\" >Predicted</th>\n",
       "    </tr>\n",
       "  </thead>\n",
       "  <tbody>\n",
       "    <tr>\n",
       "      <th id=\"T_e93f2_level0_row0\" class=\"row_heading level0 row0\" >17054</th>\n",
       "      <td id=\"T_e93f2_row0_col0\" class=\"data row0 col0\" >0.000000</td>\n",
       "      <td id=\"T_e93f2_row0_col1\" class=\"data row0 col1\" >0</td>\n",
       "    </tr>\n",
       "    <tr>\n",
       "      <th id=\"T_e93f2_level0_row1\" class=\"row_heading level0 row1\" >14886</th>\n",
       "      <td id=\"T_e93f2_row1_col0\" class=\"data row1 col0\" >0.000000</td>\n",
       "      <td id=\"T_e93f2_row1_col1\" class=\"data row1 col1\" >0</td>\n",
       "    </tr>\n",
       "    <tr>\n",
       "      <th id=\"T_e93f2_level0_row2\" class=\"row_heading level0 row2\" >12721</th>\n",
       "      <td id=\"T_e93f2_row2_col0\" class=\"data row2 col0\" >0.000000</td>\n",
       "      <td id=\"T_e93f2_row2_col1\" class=\"data row2 col1\" >0</td>\n",
       "    </tr>\n",
       "    <tr>\n",
       "      <th id=\"T_e93f2_level0_row3\" class=\"row_heading level0 row3\" >7521</th>\n",
       "      <td id=\"T_e93f2_row3_col0\" class=\"data row3 col0\" >0.000000</td>\n",
       "      <td id=\"T_e93f2_row3_col1\" class=\"data row3 col1\" >0</td>\n",
       "    </tr>\n",
       "    <tr>\n",
       "      <th id=\"T_e93f2_level0_row4\" class=\"row_heading level0 row4\" >16113</th>\n",
       "      <td id=\"T_e93f2_row4_col0\" class=\"data row4 col0\" >0.000000</td>\n",
       "      <td id=\"T_e93f2_row4_col1\" class=\"data row4 col1\" >0</td>\n",
       "    </tr>\n",
       "    <tr>\n",
       "      <th id=\"T_e93f2_level0_row5\" class=\"row_heading level0 row5\" >5713</th>\n",
       "      <td id=\"T_e93f2_row5_col0\" class=\"data row5 col0\" >0.000000</td>\n",
       "      <td id=\"T_e93f2_row5_col1\" class=\"data row5 col1\" >0</td>\n",
       "    </tr>\n",
       "    <tr>\n",
       "      <th id=\"T_e93f2_level0_row6\" class=\"row_heading level0 row6\" >3538</th>\n",
       "      <td id=\"T_e93f2_row6_col0\" class=\"data row6 col0\" >1.000000</td>\n",
       "      <td id=\"T_e93f2_row6_col1\" class=\"data row6 col1\" >1</td>\n",
       "    </tr>\n",
       "    <tr>\n",
       "      <th id=\"T_e93f2_level0_row7\" class=\"row_heading level0 row7\" >7189</th>\n",
       "      <td id=\"T_e93f2_row7_col0\" class=\"data row7 col0\" >0.000000</td>\n",
       "      <td id=\"T_e93f2_row7_col1\" class=\"data row7 col1\" >0</td>\n",
       "    </tr>\n",
       "    <tr>\n",
       "      <th id=\"T_e93f2_level0_row8\" class=\"row_heading level0 row8\" >18635</th>\n",
       "      <td id=\"T_e93f2_row8_col0\" class=\"data row8 col0\" >0.000000</td>\n",
       "      <td id=\"T_e93f2_row8_col1\" class=\"data row8 col1\" >0</td>\n",
       "    </tr>\n",
       "    <tr>\n",
       "      <th id=\"T_e93f2_level0_row9\" class=\"row_heading level0 row9\" >1206</th>\n",
       "      <td id=\"T_e93f2_row9_col0\" class=\"data row9 col0\" >0.000000</td>\n",
       "      <td id=\"T_e93f2_row9_col1\" class=\"data row9 col1\" >0</td>\n",
       "    </tr>\n",
       "    <tr>\n",
       "      <th id=\"T_e93f2_level0_row10\" class=\"row_heading level0 row10\" >18669</th>\n",
       "      <td id=\"T_e93f2_row10_col0\" class=\"data row10 col0\" >0.000000</td>\n",
       "      <td id=\"T_e93f2_row10_col1\" class=\"data row10 col1\" >0</td>\n",
       "    </tr>\n",
       "    <tr>\n",
       "      <th id=\"T_e93f2_level0_row11\" class=\"row_heading level0 row11\" >11571</th>\n",
       "      <td id=\"T_e93f2_row11_col0\" class=\"data row11 col0\" >0.000000</td>\n",
       "      <td id=\"T_e93f2_row11_col1\" class=\"data row11 col1\" >0</td>\n",
       "    </tr>\n",
       "    <tr>\n",
       "      <th id=\"T_e93f2_level0_row12\" class=\"row_heading level0 row12\" >15428</th>\n",
       "      <td id=\"T_e93f2_row12_col0\" class=\"data row12 col0\" >0.000000</td>\n",
       "      <td id=\"T_e93f2_row12_col1\" class=\"data row12 col1\" >0</td>\n",
       "    </tr>\n",
       "    <tr>\n",
       "      <th id=\"T_e93f2_level0_row13\" class=\"row_heading level0 row13\" >21340</th>\n",
       "      <td id=\"T_e93f2_row13_col0\" class=\"data row13 col0\" >0.000000</td>\n",
       "      <td id=\"T_e93f2_row13_col1\" class=\"data row13 col1\" >0</td>\n",
       "    </tr>\n",
       "    <tr>\n",
       "      <th id=\"T_e93f2_level0_row14\" class=\"row_heading level0 row14\" >15003</th>\n",
       "      <td id=\"T_e93f2_row14_col0\" class=\"data row14 col0\" >0.000000</td>\n",
       "      <td id=\"T_e93f2_row14_col1\" class=\"data row14 col1\" >0</td>\n",
       "    </tr>\n",
       "    <tr>\n",
       "      <th id=\"T_e93f2_level0_row15\" class=\"row_heading level0 row15\" >19358</th>\n",
       "      <td id=\"T_e93f2_row15_col0\" class=\"data row15 col0\" >0.000000</td>\n",
       "      <td id=\"T_e93f2_row15_col1\" class=\"data row15 col1\" >0</td>\n",
       "    </tr>\n",
       "    <tr>\n",
       "      <th id=\"T_e93f2_level0_row16\" class=\"row_heading level0 row16\" >7491</th>\n",
       "      <td id=\"T_e93f2_row16_col0\" class=\"data row16 col0\" >0.000000</td>\n",
       "      <td id=\"T_e93f2_row16_col1\" class=\"data row16 col1\" >0</td>\n",
       "    </tr>\n",
       "    <tr>\n",
       "      <th id=\"T_e93f2_level0_row17\" class=\"row_heading level0 row17\" >20282</th>\n",
       "      <td id=\"T_e93f2_row17_col0\" class=\"data row17 col0\" >0.000000</td>\n",
       "      <td id=\"T_e93f2_row17_col1\" class=\"data row17 col1\" >0</td>\n",
       "    </tr>\n",
       "    <tr>\n",
       "      <th id=\"T_e93f2_level0_row18\" class=\"row_heading level0 row18\" >4598</th>\n",
       "      <td id=\"T_e93f2_row18_col0\" class=\"data row18 col0\" >1.000000</td>\n",
       "      <td id=\"T_e93f2_row18_col1\" class=\"data row18 col1\" >1</td>\n",
       "    </tr>\n",
       "    <tr>\n",
       "      <th id=\"T_e93f2_level0_row19\" class=\"row_heading level0 row19\" >1215</th>\n",
       "      <td id=\"T_e93f2_row19_col0\" class=\"data row19 col0\" >0.000000</td>\n",
       "      <td id=\"T_e93f2_row19_col1\" class=\"data row19 col1\" >0</td>\n",
       "    </tr>\n",
       "  </tbody>\n",
       "</table>\n"
      ],
      "text/plain": [
       "<pandas.io.formats.style.Styler at 0x20a84fe1f50>"
      ]
     },
     "execution_count": 72,
     "metadata": {},
     "output_type": "execute_result"
    }
   ],
   "source": [
    "cross_checking = pd.DataFrame({'Actual' : y_test , 'Predicted' : prediction_xgb})\n",
    "cross_checking.sample(20).style.background_gradient(\n",
    "        cmap='coolwarm').set_properties(**{\n",
    "            'font-family': 'Lucida Calligraphy',\n",
    "            'color': 'LightGreen',\n",
    "            'font-size': '15px'\n",
    "        })\n"
   ]
  },
  {
   "cell_type": "code",
   "execution_count": 73,
   "id": "84bf2f24",
   "metadata": {},
   "outputs": [
    {
     "name": "stdout",
     "output_type": "stream",
     "text": [
      "[0. 0. 0. ... 0. 0. 0.]\n"
     ]
    }
   ],
   "source": [
    "prediction_rf = random_forest.predict(X_test)\n",
    "print(prediction_rf)"
   ]
  },
  {
   "cell_type": "markdown",
   "id": "bc2d6c32",
   "metadata": {},
   "source": [
    "<h2><b>Cross Checking Random Forest</b></h2>"
   ]
  },
  {
   "cell_type": "code",
   "execution_count": 74,
   "id": "b201d8b6",
   "metadata": {
    "papermill": {
     "duration": 0.034468,
     "end_time": "2024-01-03T05:53:40.209880",
     "exception": false,
     "start_time": "2024-01-03T05:53:40.175412",
     "status": "completed"
    },
    "tags": []
   },
   "outputs": [
    {
     "data": {
      "text/html": [
       "<style type=\"text/css\">\n",
       "#T_1cbcb_row0_col0, #T_1cbcb_row0_col1, #T_1cbcb_row1_col0, #T_1cbcb_row1_col1, #T_1cbcb_row2_col0, #T_1cbcb_row2_col1, #T_1cbcb_row3_col0, #T_1cbcb_row3_col1, #T_1cbcb_row4_col0, #T_1cbcb_row4_col1, #T_1cbcb_row5_col0, #T_1cbcb_row5_col1, #T_1cbcb_row6_col0, #T_1cbcb_row6_col1, #T_1cbcb_row7_col0, #T_1cbcb_row7_col1, #T_1cbcb_row8_col0, #T_1cbcb_row8_col1, #T_1cbcb_row9_col0, #T_1cbcb_row9_col1, #T_1cbcb_row11_col0, #T_1cbcb_row11_col1, #T_1cbcb_row12_col0, #T_1cbcb_row12_col1, #T_1cbcb_row13_col0, #T_1cbcb_row13_col1, #T_1cbcb_row14_col0, #T_1cbcb_row14_col1, #T_1cbcb_row15_col0, #T_1cbcb_row15_col1, #T_1cbcb_row16_col0, #T_1cbcb_row16_col1, #T_1cbcb_row17_col0, #T_1cbcb_row17_col1, #T_1cbcb_row18_col0, #T_1cbcb_row18_col1, #T_1cbcb_row19_col0, #T_1cbcb_row19_col1 {\n",
       "  background-color: #3b4cc0;\n",
       "  color: #f1f1f1;\n",
       "  font-family: Lucida Calligraphy;\n",
       "  color: LightBlue;\n",
       "  font-size: 15px;\n",
       "}\n",
       "#T_1cbcb_row10_col0, #T_1cbcb_row10_col1 {\n",
       "  background-color: #b40426;\n",
       "  color: #f1f1f1;\n",
       "  font-family: Lucida Calligraphy;\n",
       "  color: LightBlue;\n",
       "  font-size: 15px;\n",
       "}\n",
       "</style>\n",
       "<table id=\"T_1cbcb\">\n",
       "  <thead>\n",
       "    <tr>\n",
       "      <th class=\"blank level0\" >&nbsp;</th>\n",
       "      <th id=\"T_1cbcb_level0_col0\" class=\"col_heading level0 col0\" >Actual</th>\n",
       "      <th id=\"T_1cbcb_level0_col1\" class=\"col_heading level0 col1\" >Predicted</th>\n",
       "    </tr>\n",
       "  </thead>\n",
       "  <tbody>\n",
       "    <tr>\n",
       "      <th id=\"T_1cbcb_level0_row0\" class=\"row_heading level0 row0\" >9319</th>\n",
       "      <td id=\"T_1cbcb_row0_col0\" class=\"data row0 col0\" >0.000000</td>\n",
       "      <td id=\"T_1cbcb_row0_col1\" class=\"data row0 col1\" >0.000000</td>\n",
       "    </tr>\n",
       "    <tr>\n",
       "      <th id=\"T_1cbcb_level0_row1\" class=\"row_heading level0 row1\" >12311</th>\n",
       "      <td id=\"T_1cbcb_row1_col0\" class=\"data row1 col0\" >0.000000</td>\n",
       "      <td id=\"T_1cbcb_row1_col1\" class=\"data row1 col1\" >0.000000</td>\n",
       "    </tr>\n",
       "    <tr>\n",
       "      <th id=\"T_1cbcb_level0_row2\" class=\"row_heading level0 row2\" >8707</th>\n",
       "      <td id=\"T_1cbcb_row2_col0\" class=\"data row2 col0\" >0.000000</td>\n",
       "      <td id=\"T_1cbcb_row2_col1\" class=\"data row2 col1\" >0.000000</td>\n",
       "    </tr>\n",
       "    <tr>\n",
       "      <th id=\"T_1cbcb_level0_row3\" class=\"row_heading level0 row3\" >2526</th>\n",
       "      <td id=\"T_1cbcb_row3_col0\" class=\"data row3 col0\" >0.000000</td>\n",
       "      <td id=\"T_1cbcb_row3_col1\" class=\"data row3 col1\" >0.000000</td>\n",
       "    </tr>\n",
       "    <tr>\n",
       "      <th id=\"T_1cbcb_level0_row4\" class=\"row_heading level0 row4\" >15684</th>\n",
       "      <td id=\"T_1cbcb_row4_col0\" class=\"data row4 col0\" >0.000000</td>\n",
       "      <td id=\"T_1cbcb_row4_col1\" class=\"data row4 col1\" >0.000000</td>\n",
       "    </tr>\n",
       "    <tr>\n",
       "      <th id=\"T_1cbcb_level0_row5\" class=\"row_heading level0 row5\" >11994</th>\n",
       "      <td id=\"T_1cbcb_row5_col0\" class=\"data row5 col0\" >0.000000</td>\n",
       "      <td id=\"T_1cbcb_row5_col1\" class=\"data row5 col1\" >0.000000</td>\n",
       "    </tr>\n",
       "    <tr>\n",
       "      <th id=\"T_1cbcb_level0_row6\" class=\"row_heading level0 row6\" >21192</th>\n",
       "      <td id=\"T_1cbcb_row6_col0\" class=\"data row6 col0\" >0.000000</td>\n",
       "      <td id=\"T_1cbcb_row6_col1\" class=\"data row6 col1\" >0.000000</td>\n",
       "    </tr>\n",
       "    <tr>\n",
       "      <th id=\"T_1cbcb_level0_row7\" class=\"row_heading level0 row7\" >1253</th>\n",
       "      <td id=\"T_1cbcb_row7_col0\" class=\"data row7 col0\" >0.000000</td>\n",
       "      <td id=\"T_1cbcb_row7_col1\" class=\"data row7 col1\" >0.000000</td>\n",
       "    </tr>\n",
       "    <tr>\n",
       "      <th id=\"T_1cbcb_level0_row8\" class=\"row_heading level0 row8\" >17054</th>\n",
       "      <td id=\"T_1cbcb_row8_col0\" class=\"data row8 col0\" >0.000000</td>\n",
       "      <td id=\"T_1cbcb_row8_col1\" class=\"data row8 col1\" >0.000000</td>\n",
       "    </tr>\n",
       "    <tr>\n",
       "      <th id=\"T_1cbcb_level0_row9\" class=\"row_heading level0 row9\" >18463</th>\n",
       "      <td id=\"T_1cbcb_row9_col0\" class=\"data row9 col0\" >0.000000</td>\n",
       "      <td id=\"T_1cbcb_row9_col1\" class=\"data row9 col1\" >0.000000</td>\n",
       "    </tr>\n",
       "    <tr>\n",
       "      <th id=\"T_1cbcb_level0_row10\" class=\"row_heading level0 row10\" >3021</th>\n",
       "      <td id=\"T_1cbcb_row10_col0\" class=\"data row10 col0\" >1.000000</td>\n",
       "      <td id=\"T_1cbcb_row10_col1\" class=\"data row10 col1\" >1.000000</td>\n",
       "    </tr>\n",
       "    <tr>\n",
       "      <th id=\"T_1cbcb_level0_row11\" class=\"row_heading level0 row11\" >17226</th>\n",
       "      <td id=\"T_1cbcb_row11_col0\" class=\"data row11 col0\" >0.000000</td>\n",
       "      <td id=\"T_1cbcb_row11_col1\" class=\"data row11 col1\" >0.000000</td>\n",
       "    </tr>\n",
       "    <tr>\n",
       "      <th id=\"T_1cbcb_level0_row12\" class=\"row_heading level0 row12\" >12917</th>\n",
       "      <td id=\"T_1cbcb_row12_col0\" class=\"data row12 col0\" >0.000000</td>\n",
       "      <td id=\"T_1cbcb_row12_col1\" class=\"data row12 col1\" >0.000000</td>\n",
       "    </tr>\n",
       "    <tr>\n",
       "      <th id=\"T_1cbcb_level0_row13\" class=\"row_heading level0 row13\" >14388</th>\n",
       "      <td id=\"T_1cbcb_row13_col0\" class=\"data row13 col0\" >0.000000</td>\n",
       "      <td id=\"T_1cbcb_row13_col1\" class=\"data row13 col1\" >0.000000</td>\n",
       "    </tr>\n",
       "    <tr>\n",
       "      <th id=\"T_1cbcb_level0_row14\" class=\"row_heading level0 row14\" >13922</th>\n",
       "      <td id=\"T_1cbcb_row14_col0\" class=\"data row14 col0\" >0.000000</td>\n",
       "      <td id=\"T_1cbcb_row14_col1\" class=\"data row14 col1\" >0.000000</td>\n",
       "    </tr>\n",
       "    <tr>\n",
       "      <th id=\"T_1cbcb_level0_row15\" class=\"row_heading level0 row15\" >15942</th>\n",
       "      <td id=\"T_1cbcb_row15_col0\" class=\"data row15 col0\" >0.000000</td>\n",
       "      <td id=\"T_1cbcb_row15_col1\" class=\"data row15 col1\" >0.000000</td>\n",
       "    </tr>\n",
       "    <tr>\n",
       "      <th id=\"T_1cbcb_level0_row16\" class=\"row_heading level0 row16\" >9715</th>\n",
       "      <td id=\"T_1cbcb_row16_col0\" class=\"data row16 col0\" >0.000000</td>\n",
       "      <td id=\"T_1cbcb_row16_col1\" class=\"data row16 col1\" >0.000000</td>\n",
       "    </tr>\n",
       "    <tr>\n",
       "      <th id=\"T_1cbcb_level0_row17\" class=\"row_heading level0 row17\" >7395</th>\n",
       "      <td id=\"T_1cbcb_row17_col0\" class=\"data row17 col0\" >0.000000</td>\n",
       "      <td id=\"T_1cbcb_row17_col1\" class=\"data row17 col1\" >0.000000</td>\n",
       "    </tr>\n",
       "    <tr>\n",
       "      <th id=\"T_1cbcb_level0_row18\" class=\"row_heading level0 row18\" >8470</th>\n",
       "      <td id=\"T_1cbcb_row18_col0\" class=\"data row18 col0\" >0.000000</td>\n",
       "      <td id=\"T_1cbcb_row18_col1\" class=\"data row18 col1\" >0.000000</td>\n",
       "    </tr>\n",
       "    <tr>\n",
       "      <th id=\"T_1cbcb_level0_row19\" class=\"row_heading level0 row19\" >1167</th>\n",
       "      <td id=\"T_1cbcb_row19_col0\" class=\"data row19 col0\" >0.000000</td>\n",
       "      <td id=\"T_1cbcb_row19_col1\" class=\"data row19 col1\" >0.000000</td>\n",
       "    </tr>\n",
       "  </tbody>\n",
       "</table>\n"
      ],
      "text/plain": [
       "<pandas.io.formats.style.Styler at 0x20a84fe1410>"
      ]
     },
     "execution_count": 74,
     "metadata": {},
     "output_type": "execute_result"
    }
   ],
   "source": [
    "\n",
    "cross_checking_rf= pd.DataFrame({'Actual' : y_test , 'Predicted' : prediction_rf})\n",
    "cross_checking_rf.sample(20).style.background_gradient(\n",
    "        cmap='coolwarm').set_properties(**{\n",
    "            'font-family': 'Lucida Calligraphy',\n",
    "            'color': 'LightBlue',\n",
    "            'font-size': '15px'\n",
    "        })"
   ]
  },
  {
   "cell_type": "code",
   "execution_count": null,
   "id": "eb6fbea3",
   "metadata": {},
   "outputs": [],
   "source": []
  }
 ],
 "metadata": {
  "kaggle": {
   "accelerator": "none",
   "dataSources": [
    {
     "datasetId": 673798,
     "sourceId": 1185270,
     "sourceType": "datasetVersion"
    },
    {
     "datasetId": 1358964,
     "sourceId": 2258354,
     "sourceType": "datasetVersion"
    }
   ],
   "dockerImageVersionId": 30213,
   "isGpuEnabled": false,
   "isInternetEnabled": true,
   "language": "python",
   "sourceType": "notebook"
  },
  "kernelspec": {
   "display_name": "Python 3",
   "language": "python",
   "name": "python3"
  },
  "language_info": {
   "codemirror_mode": {
    "name": "ipython",
    "version": 3
   },
   "file_extension": ".py",
   "mimetype": "text/x-python",
   "name": "python",
   "nbconvert_exporter": "python",
   "pygments_lexer": "ipython3",
   "version": "3.11.5"
  },
  "papermill": {
   "default_parameters": {},
   "duration": 53.654513,
   "end_time": "2024-01-03T05:53:41.371926",
   "environment_variables": {},
   "exception": null,
   "input_path": "__notebook__.ipynb",
   "output_path": "__notebook__.ipynb",
   "parameters": {},
   "start_time": "2024-01-03T05:52:47.717413",
   "version": "2.3.4"
  }
 },
 "nbformat": 4,
 "nbformat_minor": 5
}
